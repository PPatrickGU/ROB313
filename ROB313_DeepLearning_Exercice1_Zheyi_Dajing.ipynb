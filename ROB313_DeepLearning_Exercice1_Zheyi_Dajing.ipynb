{
  "nbformat": 4,
  "nbformat_minor": 0,
  "metadata": {
    "colab": {
      "name": "ROB313_DeepLearning_Exercice1_Zheyi_Dajing.ipynb",
      "provenance": [],
      "collapsed_sections": [],
      "authorship_tag": "ABX9TyPiPFNHrDIZv/20hJN8Gob2",
      "include_colab_link": true
    },
    "kernelspec": {
      "name": "python3",
      "display_name": "Python 3"
    },
    "accelerator": "GPU"
  },
  "cells": [
    {
      "cell_type": "markdown",
      "metadata": {
        "id": "view-in-github",
        "colab_type": "text"
      },
      "source": [
        "<a href=\"https://colab.research.google.com/github/PPatrickGU/ROB313/blob/main/ROB313_DeepLearning_Exercice1_Zheyi_Dajing.ipynb\" target=\"_parent\"><img src=\"https://colab.research.google.com/assets/colab-badge.svg\" alt=\"Open In Colab\"/></a>"
      ]
    },
    {
      "cell_type": "markdown",
      "metadata": {
        "id": "X2ypK81PiItD"
      },
      "source": [
        "# **ROB313 - TP2 : Deep Learning** \r\n",
        "\r\n",
        "## **Exercise 1 : Mnist classification with Pytorch**\r\n",
        "\r\n",
        "*Author: Zheyi SHEN & Dajing GU*\r\n"
      ]
    },
    {
      "cell_type": "code",
      "metadata": {
        "id": "3ki3FrK_FkNt"
      },
      "source": [
        "import torch\n",
        "import torchvision\n",
        "import torch.nn as nn\n",
        "import torch.nn.functional as F\n",
        "from torchvision import datasets, transforms\n",
        "from torch.utils.tensorboard import SummaryWriter\n",
        "from torch import optim\n",
        "import numpy as np\n",
        "import os\n",
        "import torchvision\n",
        "import matplotlib.pyplot as plt\n",
        "from torchvision.models.resnet import resnet18\n",
        "from torchsummary import summary"
      ],
      "execution_count": null,
      "outputs": []
    },
    {
      "cell_type": "markdown",
      "metadata": {
        "id": "0sll_71QiVL3"
      },
      "source": [
        "### **Q1 Analysis of the script given by the prof**"
      ]
    },
    {
      "cell_type": "code",
      "metadata": {
        "colab": {
          "base_uri": "https://localhost:8080/"
        },
        "id": "sK2u1n-9fIoR",
        "outputId": "e52818fd-3373-4109-a137-b74d7fa9d6d5"
      },
      "source": [
        "dtype = torch.float\n",
        "DEVICE = torch.device(\"cpu\")\n",
        "# device = torch.device(\"cuda:0\") # Uncomment this to run on GPU\n",
        "\n",
        "# N is batch size; D_in is input dimension;\n",
        "# H is hidden dimension; D_out is output dimension.\n",
        "N, D_in, H, D_out = 64, 1000, 100, 10\n",
        "\n",
        "# Create random input and output data\n",
        "x = torch.randn(N, D_in, device=DEVICE, dtype=dtype)\n",
        "y = torch.randn(N, D_out, device=DEVICE, dtype=dtype)\n",
        "\n",
        "# Randomly initialize weights\n",
        "w1 = torch.randn(D_in, H, device=DEVICE, dtype=dtype)\n",
        "w2 = torch.randn(H, D_out, device=DEVICE, dtype=dtype)\n",
        "\n",
        "learning_rate = 1e-6\n",
        "for t in range(500):\n",
        "    # Forward pass: compute predicted y\n",
        "    h = x.mm(w1)\n",
        "    h_relu = h.clamp(min=0)\n",
        "    y_pred = h_relu.mm(w2)\n",
        "\n",
        "    # Compute and print loss\n",
        "    loss = (y_pred - y).pow(2).sum().item()\n",
        "    if t % 100 == 99:\n",
        "        print(t, loss)\n",
        "\n",
        "    # Backprop to compute gradients of w1 and w2 with respect to loss\n",
        "    grad_y_pred = 2.0 * (y_pred - y)\n",
        "    grad_w2 = h_relu.t().mm(grad_y_pred)\n",
        "    grad_h_relu = grad_y_pred.mm(w2.t())\n",
        "    grad_h = grad_h_relu.clone()\n",
        "    grad_h[h < 0] = 0\n",
        "    grad_w1 = x.t().mm(grad_h)\n",
        "\n",
        "    # Update weights using gradient descent\n",
        "    w1 -= learning_rate * grad_w1\n",
        "    w2 -= learning_rate * grad_w2\n"
      ],
      "execution_count": null,
      "outputs": [
        {
          "output_type": "stream",
          "text": [
            "99 876.8778686523438\n",
            "199 7.913716793060303\n",
            "299 0.13472424447536469\n",
            "399 0.0034938130993396044\n",
            "499 0.0002752822474576533\n"
          ],
          "name": "stdout"
        }
      ]
    },
    {
      "cell_type": "markdown",
      "metadata": {
        "id": "RMyilTbXieuR"
      },
      "source": [
        "### **Q2 Implementaion of a simple neural net architecture for the Minst hand-writing dataset**"
      ]
    },
    {
      "cell_type": "code",
      "metadata": {
        "id": "bAS5bwPLI7A1"
      },
      "source": [
        "class Net(nn.Module):\n",
        "  def __init__(self):\n",
        "    super(Net, self).__init__()\n",
        "    self.FC1 = nn.Linear(784, 128)\n",
        "    self.FC2 = nn.Linear(128, 10)\n",
        "  def forward(self, x):\n",
        "    x = torch.sigmoid(self.FC1(x.view(-1,784)))\n",
        "    x = self.FC2(x.view(-1,128))\n",
        "    # print(x)\n",
        "    return x"
      ],
      "execution_count": null,
      "outputs": []
    },
    {
      "cell_type": "code",
      "metadata": {
        "colab": {
          "base_uri": "https://localhost:8080/"
        },
        "id": "7wk2Jv_KEhG_",
        "outputId": "25a6c733-1157-4838-f6d0-4153c0333063"
      },
      "source": [
        "n = Net()\r\n",
        "print(n)"
      ],
      "execution_count": null,
      "outputs": [
        {
          "output_type": "stream",
          "text": [
            "Net(\n",
            "  (FC1): Linear(in_features=784, out_features=128, bias=True)\n",
            "  (FC2): Linear(in_features=128, out_features=10, bias=True)\n",
            ")\n"
          ],
          "name": "stdout"
        }
      ]
    },
    {
      "cell_type": "markdown",
      "metadata": {
        "id": "Zhjf81LpCdzj"
      },
      "source": [
        "**Import MINIST handwriting Dataset**"
      ]
    },
    {
      "cell_type": "code",
      "metadata": {
        "id": "PQpDoDbrBoms"
      },
      "source": [
        "transform = transforms.Compose([transforms.ToTensor(),\r\n",
        "                 transforms.Normalize(mean=(0.5), std=(0.5))])\r\n",
        "train_set = datasets.MNIST(root = \"./data/\", transform = transform, train = True, download = True)\r\n",
        "test_set = datasets.MNIST(root = \"./data/\", transform = transform, train = False)\r\n",
        "\r\n",
        "train_loader = torch.utils.data.DataLoader(dataset=train_set, batch_size = BATCH_SIZE, shuffle = True, num_workers = 4)\r\n",
        "test_loader = torch.utils.data.DataLoader(dataset=test_set, batch_size = BATCH_SIZE, shuffle = True, num_workers = 4)"
      ],
      "execution_count": null,
      "outputs": []
    },
    {
      "cell_type": "code",
      "metadata": {
        "colab": {
          "base_uri": "https://localhost:8080/",
          "height": 431
        },
        "id": "jua4vfgrCMWs",
        "outputId": "a9406d54-a60d-4272-ca32-f7e983333073"
      },
      "source": [
        "images, labels = iter(train_loader).next()\r\n",
        "img = torchvision.utils.make_grid(images)\r\n",
        "img = img.numpy().transpose(1,2,0)\r\n",
        "std = [0.5]\r\n",
        "mean = [0.5]\r\n",
        "img = img*std+mean\r\n",
        "for i in range(64//8):\r\n",
        "  print([labels[8*i+j].tolist() for j in range(8)])\r\n",
        "plt.imshow(img[:28*8])"
      ],
      "execution_count": null,
      "outputs": [
        {
          "output_type": "stream",
          "text": [
            "[3, 1, 7, 1, 4, 2, 4, 2]\n",
            "[3, 6, 2, 8, 1, 6, 5, 2]\n",
            "[9, 5, 0, 2, 2, 5, 4, 3]\n",
            "[7, 7, 6, 2, 2, 1, 8, 3]\n",
            "[8, 5, 3, 8, 4, 9, 7, 9]\n",
            "[0, 8, 3, 9, 2, 0, 8, 4]\n",
            "[2, 9, 9, 5, 6, 0, 8, 2]\n",
            "[3, 4, 6, 7, 4, 4, 1, 0]\n"
          ],
          "name": "stdout"
        },
        {
          "output_type": "execute_result",
          "data": {
            "text/plain": [
              "<matplotlib.image.AxesImage at 0x7f9f213aa748>"
            ]
          },
          "metadata": {
            "tags": []
          },
          "execution_count": 162
        },
        {
          "output_type": "display_data",
          "data": {
            "image/png": "[encoded data removed]",
            "text/plain": [
              "<Figure size 432x288 with 1 Axes>"
            ]
          },
          "metadata": {
            "tags": [],
            "needs_background": "light"
          }
        }
      ]
    },
    {
      "cell_type": "code",
      "metadata": {
        "id": "Jrotz8xq47wa"
      },
      "source": [
        "BATCH_SIZE = 512\n",
        "EPOCHS = 2\n",
        "DEVICE = torch.device(\"cuda\" if torch.cuda.is_available() else \"cpu\") "
      ],
      "execution_count": null,
      "outputs": []
    },
    {
      "cell_type": "code",
      "metadata": {
        "id": "flAqYYayA1Tj"
      },
      "source": [
        "def train(model, device, train_loader, optimizer, epoch):\r\n",
        "    model.train()\r\n",
        "    for batch_idx, (data, target) in enumerate(train_loader):\r\n",
        "        data, target = data.to(device), target.to(device)\r\n",
        "        # zeroes the gradient buffers of all parameters\r\n",
        "        optimizer.zero_grad()\r\n",
        "        output = model(data)\r\n",
        "        # loss = criterion(output, target)\r\n",
        "        loss = criterion(output, target)\r\n",
        "        \r\n",
        "        loss.backward()\r\n",
        "        # Perform the training parameters update\r\n",
        "        optimizer.step()\r\n",
        "\r\n",
        "        if (batch_idx + 1) % 30 == 0:\r\n",
        "            print('Train Epoch: {} [{}/{} ({:.0f}%)]\\tLoss: {:.6f}'.format(\r\n",
        "                epoch, batch_idx , len(train_loader),\r\n",
        "                100. * batch_idx / len(train_loader), loss.item()))"
      ],
      "execution_count": null,
      "outputs": []
    },
    {
      "cell_type": "code",
      "metadata": {
        "id": "39x53h-nAwEn"
      },
      "source": [
        "def test(model, device, test_loader):\r\n",
        "    model.eval()\r\n",
        "    test_loss =0\r\n",
        "    correct = 0\r\n",
        "    with torch.no_grad():\r\n",
        "        for data, target in test_loader:\r\n",
        "            data, target = data.to(device), target.to(device)\r\n",
        "            output = model(data)\r\n",
        "            test_loss += criterion(output, target).item() \r\n",
        "            pred = output.max(1, keepdim = True)[1] # get the index whose value is the biggest\r\n",
        "            correct += pred.eq(target.view_as(pred)).sum().item()\r\n",
        "\r\n",
        "    \r\n",
        "    test_loss /= len(test_loader.dataset)\r\n",
        "    print(\"\\nTest set: Average loss: {:.4f}, Accuracy: {}/{} ({:.0f}%) \\n\".format(\r\n",
        "        test_loss, correct, len(test_loader.dataset),\r\n",
        "        100.* correct / len(test_loader.dataset)\r\n",
        "            ))"
      ],
      "execution_count": null,
      "outputs": []
    },
    {
      "cell_type": "code",
      "metadata": {
        "id": "CVsVf8ZZCFD9"
      },
      "source": [
        "model = Net()\r\n",
        "model= model.to(DEVICE)\r\n",
        "# criterion = nn.MSELoss()\r\n",
        "criterion = nn.CrossEntropyLoss()\r\n",
        "optimizer = optim.SGD(model.parameters(), lr=0.01, weight_decay= 1e-3, momentum = 0.9) #regularization: weight_decay"
      ],
      "execution_count": null,
      "outputs": []
    },
    {
      "cell_type": "code",
      "metadata": {
        "colab": {
          "base_uri": "https://localhost:8080/"
        },
        "id": "XcvQ1h70B8VM",
        "outputId": "ba21d02e-e2fd-4c1e-defa-7dea6e2611c2"
      },
      "source": [
        "for epoch in range(1, EPOCHS + 1):\r\n",
        "    train(model,  DEVICE, train_loader, optimizer, epoch)\r\n",
        "    test(model, DEVICE, test_loader)"
      ],
      "execution_count": null,
      "outputs": [
        {
          "output_type": "stream",
          "text": [
            "Train Epoch: 1 [29/118 (25%)]\tLoss: 2.117381\n",
            "Train Epoch: 1 [59/118 (50%)]\tLoss: 1.760209\n",
            "Train Epoch: 1 [89/118 (75%)]\tLoss: 1.356727\n",
            "\n",
            "Test set: Average loss: 0.0021, Accuracy: 7966/10000 (80%) \n",
            "\n",
            "Train Epoch: 2 [29/118 (25%)]\tLoss: 0.919011\n",
            "Train Epoch: 2 [59/118 (50%)]\tLoss: 0.722206\n",
            "Train Epoch: 2 [89/118 (75%)]\tLoss: 0.670942\n",
            "\n",
            "Test set: Average loss: 0.0012, Accuracy: 8647/10000 (86%) \n",
            "\n"
          ],
          "name": "stdout"
        }
      ]
    },
    {
      "cell_type": "markdown",
      "metadata": {
        "id": "y90cwoIhms8_"
      },
      "source": [
        "### **Q3 Adding summaries to save the results**"
      ]
    },
    {
      "cell_type": "code",
      "metadata": {
        "colab": {
          "base_uri": "https://localhost:8080/"
        },
        "id": "pIIt3RCsmqon",
        "outputId": "2139b069-1bc0-4782-c868-f2336cd41e50"
      },
      "source": [
        "# build a folder to save the summaries\n",
        "writer = SummaryWriter('runs/MNIST_TEST')\n",
        "# n_iter = iterations step\n",
        "for n_iter in range(100):\n",
        "  writer.add_scalar('Loss/train', np.random.random(), n_iter)\n",
        "  writer.add_scalar('Accuracy/train', np.random.random(), n_iter)\n",
        "writer.close()\n",
        "print(writer)"
      ],
      "execution_count": null,
      "outputs": [
        {
          "output_type": "stream",
          "text": [
            "<torch.utils.tensorboard.writer.SummaryWriter object at 0x7f9f213aa630>\n"
          ],
          "name": "stdout"
        }
      ]
    },
    {
      "cell_type": "markdown",
      "metadata": {
        "id": "cYT57q4Uz8Qx"
      },
      "source": [
        "### **Q4 Convolutional neural network (CNN: Resnet $18^2$)**"
      ]
    },
    {
      "cell_type": "markdown",
      "metadata": {
        "id": "EXXl1k5p3RVT"
      },
      "source": [
        "**Manual Implementation de ResNet18 (change the number of channel in self.pre to cater to the datset)**"
      ]
    },
    {
      "cell_type": "code",
      "metadata": {
        "id": "1-hOnu-ssKCJ"
      },
      "source": [
        "# Definition of ResBlock\n",
        "class ResBlock(nn.Module):\n",
        "    def __init__(self, in_channel, out_channel, stride=1, shortcut=None):\n",
        "        super(ResBlock, self).__init__()\n",
        "        self.left = nn.Sequential(\n",
        "            nn.Conv2d(in_channel, out_channel, 3, stride, 1, bias=False),\n",
        "            nn.BatchNorm2d(out_channel),\n",
        "            nn.ReLU(True),\n",
        "            nn.Conv2d(out_channel, out_channel, 3, 1, 1, bias=False),\n",
        "            nn.BatchNorm2d(out_channel),\n",
        "        )\n",
        "        self.right = shortcut\n",
        "\n",
        "    def forward(self, x):\n",
        "        out = self.left(x)\n",
        "        residual = x if self.right is None else self.right(x)\n",
        "        out += residual\n",
        "        return F.relu(out)\n",
        "\n",
        "# Definition of ResNet\n",
        "class ResNet(nn.Module):\n",
        "    def __init__(self,num_classes = 10):\n",
        "        super(ResNet,self).__init__()\n",
        "        self.pre = nn.Sequential(\n",
        "            nn.Conv2d(1, 64, kernel_size = 7, stride = 2, padding = 3, bias = False),\n",
        "            nn.BatchNorm2d(64),\n",
        "            nn.ReLU(inplace = True),\n",
        "            nn.MaxPool2d(3, 2, 1)\n",
        "        )\n",
        "        self.layer1 = self._make_layer(64, 64, 2)\n",
        "        self.layer2 = self._make_layer(64, 128, 2, stride=2)\n",
        "        self.layer3 = self._make_layer(128, 256, 2, stride=2)\n",
        "        self.layer4 = self._make_layer(256, 512, 2, stride=2)\n",
        "        self.fc = nn.Linear(512, num_classes)\n",
        "        \n",
        "    def _make_layer(self, inchannel, outchannel, block_num, stride=1):\n",
        "        shortcut = nn.Sequential(\n",
        "            nn.Conv2d(inchannel,outchannel,1,stride,bias=False),\n",
        "            nn.BatchNorm2d(outchannel))\n",
        "        layers = []\n",
        "        layers.append(ResBlock(inchannel, outchannel, stride, shortcut))\n",
        "        for i in range(1, block_num):\n",
        "            layers.append(ResBlock(outchannel, outchannel))\n",
        "        return nn.Sequential(*layers)\n",
        "    \n",
        "    def forward(self,x):\n",
        "        x = self.pre(x)\n",
        "        x = self.layer1(x)\n",
        "        x = self.layer2(x)\n",
        "        x = self.layer3(x)\n",
        "        x = self.layer4(x)\n",
        "        x = F.avg_pool2d(x, 7)\n",
        "        x = x.view(x.size(0), -1)\n",
        "        out = self.fc(x)\n",
        "        return out\n"
      ],
      "execution_count": null,
      "outputs": []
    },
    {
      "cell_type": "code",
      "metadata": {
        "id": "KkJj1YQx3ZPu"
      },
      "source": [
        "model = ResNet().to(DEVICE)\n",
        "criterion = nn.CrossEntropyLoss()\n",
        "optimizer = optim.SGD(model.parameters(), lr=0.01, weight_decay= 1e-3, momentum = 0.9) #regularization: weight_decay"
      ],
      "execution_count": null,
      "outputs": []
    },
    {
      "cell_type": "markdown",
      "metadata": {
        "id": "NMzZaTGDouxM"
      },
      "source": [
        "**Import MINIST handwriting Dataset (Resize the images to shape (224,224) to cater to the need of ResNet)**"
      ]
    },
    {
      "cell_type": "code",
      "metadata": {
        "id": "4I-kYgjXVrNb"
      },
      "source": [
        "transform = transforms.Compose([transforms.Resize(224), transforms.ToTensor(),\n",
        "                 transforms.Normalize(mean=(0.5), std=(0.5))])\n",
        "train_set = datasets.MNIST(root = \"./data/\", transform = transform, train = True, download = True)\n",
        "test_set = datasets.MNIST(root = \"./data/\", transform = transform, train = False)\n",
        "\n",
        "train_loader = torch.utils.data.DataLoader(dataset=train_set, batch_size = BATCH_SIZE, shuffle = True, num_workers = 4)\n",
        "test_loader = torch.utils.data.DataLoader(dataset=test_set, batch_size = BATCH_SIZE, shuffle = True, num_workers = 4)"
      ],
      "execution_count": null,
      "outputs": []
    },
    {
      "cell_type": "code",
      "metadata": {
        "colab": {
          "base_uri": "https://localhost:8080/"
        },
        "id": "-DGI8MZHWZ6d",
        "outputId": "efdb5a8e-4cd7-454e-a684-90feadea8180"
      },
      "source": [
        "for epoch in range(1, EPOCHS + 1):\n",
        "    train(model,  DEVICE, train_loader, optimizer, epoch)\n",
        "    test(model, DEVICE, test_loader)"
      ],
      "execution_count": null,
      "outputs": [
        {
          "output_type": "stream",
          "text": [
            "Train Epoch: 1 [29/118 (25%)]\tLoss: 0.302555\n",
            "Train Epoch: 1 [59/118 (50%)]\tLoss: 0.112476\n",
            "Train Epoch: 1 [89/118 (75%)]\tLoss: 0.095630\n",
            "\n",
            "Test set: Average loss: 0.0005, Accuracy: 9104/10000 (91%) \n",
            "\n",
            "Train Epoch: 2 [29/118 (25%)]\tLoss: 0.041595\n",
            "Train Epoch: 2 [59/118 (50%)]\tLoss: 0.028539\n",
            "Train Epoch: 2 [89/118 (75%)]\tLoss: 0.027480\n",
            "\n",
            "Test set: Average loss: 0.0001, Accuracy: 9776/10000 (98%) \n",
            "\n"
          ],
          "name": "stdout"
        }
      ]
    },
    {
      "cell_type": "markdown",
      "metadata": {
        "id": "2DugWJ5eKjVT"
      },
      "source": [
        "\n",
        "### **Q5 Use of Optuna to find the best hyperparameters**"
      ]
    },
    {
      "cell_type": "code",
      "metadata": {
        "colab": {
          "base_uri": "https://localhost:8080/"
        },
        "id": "2Sto9eAiKBm3",
        "outputId": "3b51f06b-e5a1-45cf-f70d-f0f2c9482efb"
      },
      "source": [
        "!pip install optuna\n",
        "import optuna"
      ],
      "execution_count": null,
      "outputs": [
        {
          "output_type": "stream",
          "text": [
            "Requirement already satisfied: optuna in /usr/local/lib/python3.6/dist-packages (2.3.0)\n",
            "Requirement already satisfied: numpy in /usr/local/lib/python3.6/dist-packages (from optuna) (1.18.5)\n",
            "Requirement already satisfied: tqdm in /usr/local/lib/python3.6/dist-packages (from optuna) (4.41.1)\n",
            "Requirement already satisfied: joblib in /usr/local/lib/python3.6/dist-packages (from optuna) (0.17.0)\n",
            "Requirement already satisfied: packaging>=20.0 in /usr/local/lib/python3.6/dist-packages (from optuna) (20.4)\n",
            "Requirement already satisfied: scipy!=1.4.0 in /usr/local/lib/python3.6/dist-packages (from optuna) (1.4.1)\n",
            "Requirement already satisfied: cmaes>=0.6.0 in /usr/local/lib/python3.6/dist-packages (from optuna) (0.7.0)\n",
            "Requirement already satisfied: cliff in /usr/local/lib/python3.6/dist-packages (from optuna) (3.5.0)\n",
            "Requirement already satisfied: alembic in /usr/local/lib/python3.6/dist-packages (from optuna) (1.4.3)\n",
            "Requirement already satisfied: colorlog in /usr/local/lib/python3.6/dist-packages (from optuna) (4.6.2)\n",
            "Requirement already satisfied: sqlalchemy>=1.1.0 in /usr/local/lib/python3.6/dist-packages (from optuna) (1.3.20)\n",
            "Requirement already satisfied: six in /usr/local/lib/python3.6/dist-packages (from packaging>=20.0->optuna) (1.15.0)\n",
            "Requirement already satisfied: pyparsing>=2.0.2 in /usr/local/lib/python3.6/dist-packages (from packaging>=20.0->optuna) (2.4.7)\n",
            "Requirement already satisfied: PrettyTable<0.8,>=0.7.2 in /usr/local/lib/python3.6/dist-packages (from cliff->optuna) (0.7.2)\n",
            "Requirement already satisfied: PyYAML>=3.12 in /usr/local/lib/python3.6/dist-packages (from cliff->optuna) (3.13)\n",
            "Requirement already satisfied: stevedore>=2.0.1 in /usr/local/lib/python3.6/dist-packages (from cliff->optuna) (3.3.0)\n",
            "Requirement already satisfied: cmd2!=0.8.3,>=0.8.0 in /usr/local/lib/python3.6/dist-packages (from cliff->optuna) (1.4.0)\n",
            "Requirement already satisfied: pbr!=2.1.0,>=2.0.0 in /usr/local/lib/python3.6/dist-packages (from cliff->optuna) (5.5.1)\n",
            "Requirement already satisfied: Mako in /usr/local/lib/python3.6/dist-packages (from alembic->optuna) (1.1.3)\n",
            "Requirement already satisfied: python-editor>=0.3 in /usr/local/lib/python3.6/dist-packages (from alembic->optuna) (1.0.4)\n",
            "Requirement already satisfied: python-dateutil in /usr/local/lib/python3.6/dist-packages (from alembic->optuna) (2.8.1)\n",
            "Requirement already satisfied: importlib-metadata>=1.7.0; python_version < \"3.8\" in /usr/local/lib/python3.6/dist-packages (from stevedore>=2.0.1->cliff->optuna) (2.0.0)\n",
            "Requirement already satisfied: wcwidth>=0.1.7 in /usr/local/lib/python3.6/dist-packages (from cmd2!=0.8.3,>=0.8.0->cliff->optuna) (0.2.5)\n",
            "Requirement already satisfied: colorama>=0.3.7 in /usr/local/lib/python3.6/dist-packages (from cmd2!=0.8.3,>=0.8.0->cliff->optuna) (0.4.4)\n",
            "Requirement already satisfied: pyperclip>=1.6 in /usr/local/lib/python3.6/dist-packages (from cmd2!=0.8.3,>=0.8.0->cliff->optuna) (1.8.1)\n",
            "Requirement already satisfied: attrs>=16.3.0 in /usr/local/lib/python3.6/dist-packages (from cmd2!=0.8.3,>=0.8.0->cliff->optuna) (20.3.0)\n",
            "Requirement already satisfied: MarkupSafe>=0.9.2 in /usr/local/lib/python3.6/dist-packages (from Mako->alembic->optuna) (1.1.1)\n",
            "Requirement already satisfied: zipp>=0.5 in /usr/local/lib/python3.6/dist-packages (from importlib-metadata>=1.7.0; python_version < \"3.8\"->stevedore>=2.0.1->cliff->optuna) (3.4.0)\n"
          ],
          "name": "stdout"
        }
      ]
    },
    {
      "cell_type": "code",
      "metadata": {
        "id": "r66Sn7cRKsfI"
      },
      "source": [
        "def objective(trial):\n",
        "\n",
        "    model = ResNet().to(DEVICE)\n",
        "    criterion = nn.CrossEntropyLoss()\n",
        "    lr = trial.suggest_loguniform(\"lr\", 1e-3, 10)\n",
        "    weight_decay = trial.suggest_loguniform(\"weight_decay\", 1e-3, 1)\n",
        "\n",
        "    optimizer = optim.SGD(model.parameters(), lr = lr, weight_decay = weight_decay, momentum = 0.9)\n",
        "\n",
        "    # Training of the model.\n",
        "    \n",
        "    for epoch in range(EPOCHS):\n",
        "        model.train()\n",
        "        for batch_idx, (data, target) in enumerate(train_loader):\n",
        "            # # Limiting training data for faster epochs.\n",
        "            # if batch_idx * BATCHSIZE >= N_TRAIN_EXAMPLES:\n",
        "            #     break\n",
        "            data, target = data.to(DEVICE), target.to(DEVICE)\n",
        "            optimizer.zero_grad()\n",
        "            output = model(data)\n",
        "            loss = criterion(output, target)\n",
        "            loss.backward()\n",
        "            optimizer.step()\n",
        "\n",
        "        # Validation of the model.\n",
        "        model.eval()\n",
        "        correct = 0\n",
        "        with torch.no_grad():\n",
        "            for batch_idx, (data, target) in enumerate(test_loader):\n",
        "                # Limiting validation data.\n",
        "                # if batch_idx * BATCHSIZE >= N_TEST_EXAMPLES:\n",
        "                #     break\n",
        "                data, target = data.to(DEVICE), target.to(DEVICE)\n",
        "                output = model(data)\n",
        "                # Get the index of the max log-probability.\n",
        "                pred = output.argmax(dim=1, keepdim=True)\n",
        "                correct += pred.eq(target.view_as(pred)).sum().item()\n",
        "\n",
        "        # accuracy = correct / min(len(test_loader.dataset), N_TEST_EXAMPLES)\n",
        "        accuracy = correct / len(test_loader.dataset)\n",
        "\n",
        "        trial.report(accuracy, epoch)\n",
        "\n",
        "        # Handle pruning based on the intermediate value.\n",
        "        if trial.should_prune():\n",
        "            raise optuna.exceptions.TrialPruned()\n",
        "\n",
        "    return accuracy"
      ],
      "execution_count": null,
      "outputs": []
    },
    {
      "cell_type": "code",
      "metadata": {
        "colab": {
          "base_uri": "https://localhost:8080/"
        },
        "id": "h9esMMHOLFNv",
        "outputId": "c7b723ec-736c-49e1-8f7c-e3e8e236299c"
      },
      "source": [
        "search_space = {\"lr\": [1, 0.1, 0.01, 0.001], \"weight_decay\": [0.1, 0.01, 0.001]}\n",
        "study = optuna.create_study(sampler=optuna.samplers.GridSampler(search_space), direction=\"maximize\")\n",
        "study.optimize(objective, n_trials=12)\n"
      ],
      "execution_count": null,
      "outputs": [
        {
          "output_type": "stream",
          "text": [
            "\u001b[32m[I 2020-12-10 19:43:23,019]\u001b[0m A new study created in memory with name: no-name-28945ebf-1e4d-43c4-bb4c-4c68020b0c7d\u001b[0m\n"
          ],
          "name": "stderr"
        }
      ]
    }
  ]
}