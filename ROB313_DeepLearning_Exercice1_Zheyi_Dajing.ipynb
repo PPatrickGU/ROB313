{
  "nbformat": 4,
  "nbformat_minor": 0,
  "metadata": {
    "colab": {
      "name": "ROB313_DeepLearning_Exercice1_Zheyi_Dajing.ipynb",
      "provenance": [],
      "collapsed_sections": [
        "0sll_71QiVL3"
      ],
      "toc_visible": true,
      "include_colab_link": true
    },
    "kernelspec": {
      "name": "python3",
      "display_name": "Python 3"
    },
    "accelerator": "GPU",
    "widgets": {
      "application/vnd.jupyter.widget-state+json": {
        "1856ea21d0034e5783b89f0a2e13ccf5": {
          "model_module": "@jupyter-widgets/controls",
          "model_name": "HBoxModel",
          "state": {
            "_view_name": "HBoxView",
            "_dom_classes": [],
            "_model_name": "HBoxModel",
            "_view_module": "@jupyter-widgets/controls",
            "_model_module_version": "1.5.0",
            "_view_count": null,
            "_view_module_version": "1.5.0",
            "box_style": "",
            "layout": "IPY_MODEL_c670293271e348638fc2fa5243a06ff3",
            "_model_module": "@jupyter-widgets/controls",
            "children": [
              "IPY_MODEL_99c693a642244ec48a43f4aa9c2958af",
              "IPY_MODEL_23bb94534c3d4f7ea1132269aa2d3360"
            ]
          }
        },
        "c670293271e348638fc2fa5243a06ff3": {
          "model_module": "@jupyter-widgets/base",
          "model_name": "LayoutModel",
          "state": {
            "_view_name": "LayoutView",
            "grid_template_rows": null,
            "right": null,
            "justify_content": null,
            "_view_module": "@jupyter-widgets/base",
            "overflow": null,
            "_model_module_version": "1.2.0",
            "_view_count": null,
            "flex_flow": null,
            "width": null,
            "min_width": null,
            "border": null,
            "align_items": null,
            "bottom": null,
            "_model_module": "@jupyter-widgets/base",
            "top": null,
            "grid_column": null,
            "overflow_y": null,
            "overflow_x": null,
            "grid_auto_flow": null,
            "grid_area": null,
            "grid_template_columns": null,
            "flex": null,
            "_model_name": "LayoutModel",
            "justify_items": null,
            "grid_row": null,
            "max_height": null,
            "align_content": null,
            "visibility": null,
            "align_self": null,
            "height": null,
            "min_height": null,
            "padding": null,
            "grid_auto_rows": null,
            "grid_gap": null,
            "max_width": null,
            "order": null,
            "_view_module_version": "1.2.0",
            "grid_template_areas": null,
            "object_position": null,
            "object_fit": null,
            "grid_auto_columns": null,
            "margin": null,
            "display": null,
            "left": null
          }
        },
        "99c693a642244ec48a43f4aa9c2958af": {
          "model_module": "@jupyter-widgets/controls",
          "model_name": "FloatProgressModel",
          "state": {
            "_view_name": "ProgressView",
            "style": "IPY_MODEL_1457d7e4eea14af6a808236b515ab581",
            "_dom_classes": [],
            "description": "",
            "_model_name": "FloatProgressModel",
            "bar_style": "success",
            "max": 1,
            "_view_module": "@jupyter-widgets/controls",
            "_model_module_version": "1.5.0",
            "value": 1,
            "_view_count": null,
            "_view_module_version": "1.5.0",
            "orientation": "horizontal",
            "min": 0,
            "description_tooltip": null,
            "_model_module": "@jupyter-widgets/controls",
            "layout": "IPY_MODEL_94d0f29274354841971664826b45ee13"
          }
        },
        "23bb94534c3d4f7ea1132269aa2d3360": {
          "model_module": "@jupyter-widgets/controls",
          "model_name": "HTMLModel",
          "state": {
            "_view_name": "HTMLView",
            "style": "IPY_MODEL_50c478b4d8b64c058ffe534707aa4732",
            "_dom_classes": [],
            "description": "",
            "_model_name": "HTMLModel",
            "placeholder": "​",
            "_view_module": "@jupyter-widgets/controls",
            "_model_module_version": "1.5.0",
            "value": " 9920512/? [00:06&lt;00:00, 1605900.56it/s]",
            "_view_count": null,
            "_view_module_version": "1.5.0",
            "description_tooltip": null,
            "_model_module": "@jupyter-widgets/controls",
            "layout": "IPY_MODEL_67307c5de0644441a39c9414ca345c01"
          }
        },
        "1457d7e4eea14af6a808236b515ab581": {
          "model_module": "@jupyter-widgets/controls",
          "model_name": "ProgressStyleModel",
          "state": {
            "_view_name": "StyleView",
            "_model_name": "ProgressStyleModel",
            "description_width": "initial",
            "_view_module": "@jupyter-widgets/base",
            "_model_module_version": "1.5.0",
            "_view_count": null,
            "_view_module_version": "1.2.0",
            "bar_color": null,
            "_model_module": "@jupyter-widgets/controls"
          }
        },
        "94d0f29274354841971664826b45ee13": {
          "model_module": "@jupyter-widgets/base",
          "model_name": "LayoutModel",
          "state": {
            "_view_name": "LayoutView",
            "grid_template_rows": null,
            "right": null,
            "justify_content": null,
            "_view_module": "@jupyter-widgets/base",
            "overflow": null,
            "_model_module_version": "1.2.0",
            "_view_count": null,
            "flex_flow": null,
            "width": null,
            "min_width": null,
            "border": null,
            "align_items": null,
            "bottom": null,
            "_model_module": "@jupyter-widgets/base",
            "top": null,
            "grid_column": null,
            "overflow_y": null,
            "overflow_x": null,
            "grid_auto_flow": null,
            "grid_area": null,
            "grid_template_columns": null,
            "flex": null,
            "_model_name": "LayoutModel",
            "justify_items": null,
            "grid_row": null,
            "max_height": null,
            "align_content": null,
            "visibility": null,
            "align_self": null,
            "height": null,
            "min_height": null,
            "padding": null,
            "grid_auto_rows": null,
            "grid_gap": null,
            "max_width": null,
            "order": null,
            "_view_module_version": "1.2.0",
            "grid_template_areas": null,
            "object_position": null,
            "object_fit": null,
            "grid_auto_columns": null,
            "margin": null,
            "display": null,
            "left": null
          }
        },
        "50c478b4d8b64c058ffe534707aa4732": {
          "model_module": "@jupyter-widgets/controls",
          "model_name": "DescriptionStyleModel",
          "state": {
            "_view_name": "StyleView",
            "_model_name": "DescriptionStyleModel",
            "description_width": "",
            "_view_module": "@jupyter-widgets/base",
            "_model_module_version": "1.5.0",
            "_view_count": null,
            "_view_module_version": "1.2.0",
            "_model_module": "@jupyter-widgets/controls"
          }
        },
        "67307c5de0644441a39c9414ca345c01": {
          "model_module": "@jupyter-widgets/base",
          "model_name": "LayoutModel",
          "state": {
            "_view_name": "LayoutView",
            "grid_template_rows": null,
            "right": null,
            "justify_content": null,
            "_view_module": "@jupyter-widgets/base",
            "overflow": null,
            "_model_module_version": "1.2.0",
            "_view_count": null,
            "flex_flow": null,
            "width": null,
            "min_width": null,
            "border": null,
            "align_items": null,
            "bottom": null,
            "_model_module": "@jupyter-widgets/base",
            "top": null,
            "grid_column": null,
            "overflow_y": null,
            "overflow_x": null,
            "grid_auto_flow": null,
            "grid_area": null,
            "grid_template_columns": null,
            "flex": null,
            "_model_name": "LayoutModel",
            "justify_items": null,
            "grid_row": null,
            "max_height": null,
            "align_content": null,
            "visibility": null,
            "align_self": null,
            "height": null,
            "min_height": null,
            "padding": null,
            "grid_auto_rows": null,
            "grid_gap": null,
            "max_width": null,
            "order": null,
            "_view_module_version": "1.2.0",
            "grid_template_areas": null,
            "object_position": null,
            "object_fit": null,
            "grid_auto_columns": null,
            "margin": null,
            "display": null,
            "left": null
          }
        },
        "4e0b5fb1eea3403ba43e3a613ce41c80": {
          "model_module": "@jupyter-widgets/controls",
          "model_name": "HBoxModel",
          "state": {
            "_view_name": "HBoxView",
            "_dom_classes": [],
            "_model_name": "HBoxModel",
            "_view_module": "@jupyter-widgets/controls",
            "_model_module_version": "1.5.0",
            "_view_count": null,
            "_view_module_version": "1.5.0",
            "box_style": "",
            "layout": "IPY_MODEL_e794c63e94de4d198c1457324c7e10a9",
            "_model_module": "@jupyter-widgets/controls",
            "children": [
              "IPY_MODEL_a721d86b9d88434986c7897882858003",
              "IPY_MODEL_3e00e0138c914911b17c73b2b998e3c7"
            ]
          }
        },
        "e794c63e94de4d198c1457324c7e10a9": {
          "model_module": "@jupyter-widgets/base",
          "model_name": "LayoutModel",
          "state": {
            "_view_name": "LayoutView",
            "grid_template_rows": null,
            "right": null,
            "justify_content": null,
            "_view_module": "@jupyter-widgets/base",
            "overflow": null,
            "_model_module_version": "1.2.0",
            "_view_count": null,
            "flex_flow": null,
            "width": null,
            "min_width": null,
            "border": null,
            "align_items": null,
            "bottom": null,
            "_model_module": "@jupyter-widgets/base",
            "top": null,
            "grid_column": null,
            "overflow_y": null,
            "overflow_x": null,
            "grid_auto_flow": null,
            "grid_area": null,
            "grid_template_columns": null,
            "flex": null,
            "_model_name": "LayoutModel",
            "justify_items": null,
            "grid_row": null,
            "max_height": null,
            "align_content": null,
            "visibility": null,
            "align_self": null,
            "height": null,
            "min_height": null,
            "padding": null,
            "grid_auto_rows": null,
            "grid_gap": null,
            "max_width": null,
            "order": null,
            "_view_module_version": "1.2.0",
            "grid_template_areas": null,
            "object_position": null,
            "object_fit": null,
            "grid_auto_columns": null,
            "margin": null,
            "display": null,
            "left": null
          }
        },
        "a721d86b9d88434986c7897882858003": {
          "model_module": "@jupyter-widgets/controls",
          "model_name": "FloatProgressModel",
          "state": {
            "_view_name": "ProgressView",
            "style": "IPY_MODEL_2eac1b87117947818d25065606a2850e",
            "_dom_classes": [],
            "description": "",
            "_model_name": "FloatProgressModel",
            "bar_style": "success",
            "max": 1,
            "_view_module": "@jupyter-widgets/controls",
            "_model_module_version": "1.5.0",
            "value": 1,
            "_view_count": null,
            "_view_module_version": "1.5.0",
            "orientation": "horizontal",
            "min": 0,
            "description_tooltip": null,
            "_model_module": "@jupyter-widgets/controls",
            "layout": "IPY_MODEL_bc36795e686b4c869572f3432dd5f8d7"
          }
        },
        "3e00e0138c914911b17c73b2b998e3c7": {
          "model_module": "@jupyter-widgets/controls",
          "model_name": "HTMLModel",
          "state": {
            "_view_name": "HTMLView",
            "style": "IPY_MODEL_fed2a1ba1ab24422925e3e8bd00cd288",
            "_dom_classes": [],
            "description": "",
            "_model_name": "HTMLModel",
            "placeholder": "​",
            "_view_module": "@jupyter-widgets/controls",
            "_model_module_version": "1.5.0",
            "value": " 32768/? [00:00&lt;00:00, 357587.08it/s]",
            "_view_count": null,
            "_view_module_version": "1.5.0",
            "description_tooltip": null,
            "_model_module": "@jupyter-widgets/controls",
            "layout": "IPY_MODEL_4c8037353a5d47ec8ba5bf9b112fa395"
          }
        },
        "2eac1b87117947818d25065606a2850e": {
          "model_module": "@jupyter-widgets/controls",
          "model_name": "ProgressStyleModel",
          "state": {
            "_view_name": "StyleView",
            "_model_name": "ProgressStyleModel",
            "description_width": "initial",
            "_view_module": "@jupyter-widgets/base",
            "_model_module_version": "1.5.0",
            "_view_count": null,
            "_view_module_version": "1.2.0",
            "bar_color": null,
            "_model_module": "@jupyter-widgets/controls"
          }
        },
        "bc36795e686b4c869572f3432dd5f8d7": {
          "model_module": "@jupyter-widgets/base",
          "model_name": "LayoutModel",
          "state": {
            "_view_name": "LayoutView",
            "grid_template_rows": null,
            "right": null,
            "justify_content": null,
            "_view_module": "@jupyter-widgets/base",
            "overflow": null,
            "_model_module_version": "1.2.0",
            "_view_count": null,
            "flex_flow": null,
            "width": null,
            "min_width": null,
            "border": null,
            "align_items": null,
            "bottom": null,
            "_model_module": "@jupyter-widgets/base",
            "top": null,
            "grid_column": null,
            "overflow_y": null,
            "overflow_x": null,
            "grid_auto_flow": null,
            "grid_area": null,
            "grid_template_columns": null,
            "flex": null,
            "_model_name": "LayoutModel",
            "justify_items": null,
            "grid_row": null,
            "max_height": null,
            "align_content": null,
            "visibility": null,
            "align_self": null,
            "height": null,
            "min_height": null,
            "padding": null,
            "grid_auto_rows": null,
            "grid_gap": null,
            "max_width": null,
            "order": null,
            "_view_module_version": "1.2.0",
            "grid_template_areas": null,
            "object_position": null,
            "object_fit": null,
            "grid_auto_columns": null,
            "margin": null,
            "display": null,
            "left": null
          }
        },
        "fed2a1ba1ab24422925e3e8bd00cd288": {
          "model_module": "@jupyter-widgets/controls",
          "model_name": "DescriptionStyleModel",
          "state": {
            "_view_name": "StyleView",
            "_model_name": "DescriptionStyleModel",
            "description_width": "",
            "_view_module": "@jupyter-widgets/base",
            "_model_module_version": "1.5.0",
            "_view_count": null,
            "_view_module_version": "1.2.0",
            "_model_module": "@jupyter-widgets/controls"
          }
        },
        "4c8037353a5d47ec8ba5bf9b112fa395": {
          "model_module": "@jupyter-widgets/base",
          "model_name": "LayoutModel",
          "state": {
            "_view_name": "LayoutView",
            "grid_template_rows": null,
            "right": null,
            "justify_content": null,
            "_view_module": "@jupyter-widgets/base",
            "overflow": null,
            "_model_module_version": "1.2.0",
            "_view_count": null,
            "flex_flow": null,
            "width": null,
            "min_width": null,
            "border": null,
            "align_items": null,
            "bottom": null,
            "_model_module": "@jupyter-widgets/base",
            "top": null,
            "grid_column": null,
            "overflow_y": null,
            "overflow_x": null,
            "grid_auto_flow": null,
            "grid_area": null,
            "grid_template_columns": null,
            "flex": null,
            "_model_name": "LayoutModel",
            "justify_items": null,
            "grid_row": null,
            "max_height": null,
            "align_content": null,
            "visibility": null,
            "align_self": null,
            "height": null,
            "min_height": null,
            "padding": null,
            "grid_auto_rows": null,
            "grid_gap": null,
            "max_width": null,
            "order": null,
            "_view_module_version": "1.2.0",
            "grid_template_areas": null,
            "object_position": null,
            "object_fit": null,
            "grid_auto_columns": null,
            "margin": null,
            "display": null,
            "left": null
          }
        },
        "57e5d6fbb9c949dd943e236db227cf96": {
          "model_module": "@jupyter-widgets/controls",
          "model_name": "HBoxModel",
          "state": {
            "_view_name": "HBoxView",
            "_dom_classes": [],
            "_model_name": "HBoxModel",
            "_view_module": "@jupyter-widgets/controls",
            "_model_module_version": "1.5.0",
            "_view_count": null,
            "_view_module_version": "1.5.0",
            "box_style": "",
            "layout": "IPY_MODEL_7f593097fda6473dacad0249bc2cae9b",
            "_model_module": "@jupyter-widgets/controls",
            "children": [
              "IPY_MODEL_bca1e84c391b494fa9d41861aff65a47",
              "IPY_MODEL_66ec943fe5c54c2a9e342a652915fae3"
            ]
          }
        },
        "7f593097fda6473dacad0249bc2cae9b": {
          "model_module": "@jupyter-widgets/base",
          "model_name": "LayoutModel",
          "state": {
            "_view_name": "LayoutView",
            "grid_template_rows": null,
            "right": null,
            "justify_content": null,
            "_view_module": "@jupyter-widgets/base",
            "overflow": null,
            "_model_module_version": "1.2.0",
            "_view_count": null,
            "flex_flow": null,
            "width": null,
            "min_width": null,
            "border": null,
            "align_items": null,
            "bottom": null,
            "_model_module": "@jupyter-widgets/base",
            "top": null,
            "grid_column": null,
            "overflow_y": null,
            "overflow_x": null,
            "grid_auto_flow": null,
            "grid_area": null,
            "grid_template_columns": null,
            "flex": null,
            "_model_name": "LayoutModel",
            "justify_items": null,
            "grid_row": null,
            "max_height": null,
            "align_content": null,
            "visibility": null,
            "align_self": null,
            "height": null,
            "min_height": null,
            "padding": null,
            "grid_auto_rows": null,
            "grid_gap": null,
            "max_width": null,
            "order": null,
            "_view_module_version": "1.2.0",
            "grid_template_areas": null,
            "object_position": null,
            "object_fit": null,
            "grid_auto_columns": null,
            "margin": null,
            "display": null,
            "left": null
          }
        },
        "bca1e84c391b494fa9d41861aff65a47": {
          "model_module": "@jupyter-widgets/controls",
          "model_name": "FloatProgressModel",
          "state": {
            "_view_name": "ProgressView",
            "style": "IPY_MODEL_51f2f9d3259442289d58e13ba5023266",
            "_dom_classes": [],
            "description": "",
            "_model_name": "FloatProgressModel",
            "bar_style": "success",
            "max": 1,
            "_view_module": "@jupyter-widgets/controls",
            "_model_module_version": "1.5.0",
            "value": 1,
            "_view_count": null,
            "_view_module_version": "1.5.0",
            "orientation": "horizontal",
            "min": 0,
            "description_tooltip": null,
            "_model_module": "@jupyter-widgets/controls",
            "layout": "IPY_MODEL_5a5f5a54fbe94579a6ad5df90dabb67d"
          }
        },
        "66ec943fe5c54c2a9e342a652915fae3": {
          "model_module": "@jupyter-widgets/controls",
          "model_name": "HTMLModel",
          "state": {
            "_view_name": "HTMLView",
            "style": "IPY_MODEL_a1c6fe443ee5432998b64bf690e2011f",
            "_dom_classes": [],
            "description": "",
            "_model_name": "HTMLModel",
            "placeholder": "​",
            "_view_module": "@jupyter-widgets/controls",
            "_model_module_version": "1.5.0",
            "value": " 1654784/? [00:05&lt;00:00, 318893.64it/s]",
            "_view_count": null,
            "_view_module_version": "1.5.0",
            "description_tooltip": null,
            "_model_module": "@jupyter-widgets/controls",
            "layout": "IPY_MODEL_b26f5a252f2f4c58a30aa71ca1a606e7"
          }
        },
        "51f2f9d3259442289d58e13ba5023266": {
          "model_module": "@jupyter-widgets/controls",
          "model_name": "ProgressStyleModel",
          "state": {
            "_view_name": "StyleView",
            "_model_name": "ProgressStyleModel",
            "description_width": "initial",
            "_view_module": "@jupyter-widgets/base",
            "_model_module_version": "1.5.0",
            "_view_count": null,
            "_view_module_version": "1.2.0",
            "bar_color": null,
            "_model_module": "@jupyter-widgets/controls"
          }
        },
        "5a5f5a54fbe94579a6ad5df90dabb67d": {
          "model_module": "@jupyter-widgets/base",
          "model_name": "LayoutModel",
          "state": {
            "_view_name": "LayoutView",
            "grid_template_rows": null,
            "right": null,
            "justify_content": null,
            "_view_module": "@jupyter-widgets/base",
            "overflow": null,
            "_model_module_version": "1.2.0",
            "_view_count": null,
            "flex_flow": null,
            "width": null,
            "min_width": null,
            "border": null,
            "align_items": null,
            "bottom": null,
            "_model_module": "@jupyter-widgets/base",
            "top": null,
            "grid_column": null,
            "overflow_y": null,
            "overflow_x": null,
            "grid_auto_flow": null,
            "grid_area": null,
            "grid_template_columns": null,
            "flex": null,
            "_model_name": "LayoutModel",
            "justify_items": null,
            "grid_row": null,
            "max_height": null,
            "align_content": null,
            "visibility": null,
            "align_self": null,
            "height": null,
            "min_height": null,
            "padding": null,
            "grid_auto_rows": null,
            "grid_gap": null,
            "max_width": null,
            "order": null,
            "_view_module_version": "1.2.0",
            "grid_template_areas": null,
            "object_position": null,
            "object_fit": null,
            "grid_auto_columns": null,
            "margin": null,
            "display": null,
            "left": null
          }
        },
        "a1c6fe443ee5432998b64bf690e2011f": {
          "model_module": "@jupyter-widgets/controls",
          "model_name": "DescriptionStyleModel",
          "state": {
            "_view_name": "StyleView",
            "_model_name": "DescriptionStyleModel",
            "description_width": "",
            "_view_module": "@jupyter-widgets/base",
            "_model_module_version": "1.5.0",
            "_view_count": null,
            "_view_module_version": "1.2.0",
            "_model_module": "@jupyter-widgets/controls"
          }
        },
        "b26f5a252f2f4c58a30aa71ca1a606e7": {
          "model_module": "@jupyter-widgets/base",
          "model_name": "LayoutModel",
          "state": {
            "_view_name": "LayoutView",
            "grid_template_rows": null,
            "right": null,
            "justify_content": null,
            "_view_module": "@jupyter-widgets/base",
            "overflow": null,
            "_model_module_version": "1.2.0",
            "_view_count": null,
            "flex_flow": null,
            "width": null,
            "min_width": null,
            "border": null,
            "align_items": null,
            "bottom": null,
            "_model_module": "@jupyter-widgets/base",
            "top": null,
            "grid_column": null,
            "overflow_y": null,
            "overflow_x": null,
            "grid_auto_flow": null,
            "grid_area": null,
            "grid_template_columns": null,
            "flex": null,
            "_model_name": "LayoutModel",
            "justify_items": null,
            "grid_row": null,
            "max_height": null,
            "align_content": null,
            "visibility": null,
            "align_self": null,
            "height": null,
            "min_height": null,
            "padding": null,
            "grid_auto_rows": null,
            "grid_gap": null,
            "max_width": null,
            "order": null,
            "_view_module_version": "1.2.0",
            "grid_template_areas": null,
            "object_position": null,
            "object_fit": null,
            "grid_auto_columns": null,
            "margin": null,
            "display": null,
            "left": null
          }
        },
        "03c7d84a5f594443af2dd5462bd30ffc": {
          "model_module": "@jupyter-widgets/controls",
          "model_name": "HBoxModel",
          "state": {
            "_view_name": "HBoxView",
            "_dom_classes": [],
            "_model_name": "HBoxModel",
            "_view_module": "@jupyter-widgets/controls",
            "_model_module_version": "1.5.0",
            "_view_count": null,
            "_view_module_version": "1.5.0",
            "box_style": "",
            "layout": "IPY_MODEL_062a5050c24e41b0a9ec51e6cfc06c50",
            "_model_module": "@jupyter-widgets/controls",
            "children": [
              "IPY_MODEL_cc0fc3e51248465fad03b35efac9ea76",
              "IPY_MODEL_760e8502714349aa95be11c7b70570a6"
            ]
          }
        },
        "062a5050c24e41b0a9ec51e6cfc06c50": {
          "model_module": "@jupyter-widgets/base",
          "model_name": "LayoutModel",
          "state": {
            "_view_name": "LayoutView",
            "grid_template_rows": null,
            "right": null,
            "justify_content": null,
            "_view_module": "@jupyter-widgets/base",
            "overflow": null,
            "_model_module_version": "1.2.0",
            "_view_count": null,
            "flex_flow": null,
            "width": null,
            "min_width": null,
            "border": null,
            "align_items": null,
            "bottom": null,
            "_model_module": "@jupyter-widgets/base",
            "top": null,
            "grid_column": null,
            "overflow_y": null,
            "overflow_x": null,
            "grid_auto_flow": null,
            "grid_area": null,
            "grid_template_columns": null,
            "flex": null,
            "_model_name": "LayoutModel",
            "justify_items": null,
            "grid_row": null,
            "max_height": null,
            "align_content": null,
            "visibility": null,
            "align_self": null,
            "height": null,
            "min_height": null,
            "padding": null,
            "grid_auto_rows": null,
            "grid_gap": null,
            "max_width": null,
            "order": null,
            "_view_module_version": "1.2.0",
            "grid_template_areas": null,
            "object_position": null,
            "object_fit": null,
            "grid_auto_columns": null,
            "margin": null,
            "display": null,
            "left": null
          }
        },
        "cc0fc3e51248465fad03b35efac9ea76": {
          "model_module": "@jupyter-widgets/controls",
          "model_name": "FloatProgressModel",
          "state": {
            "_view_name": "ProgressView",
            "style": "IPY_MODEL_562247094a474cf283c2ce4444c194de",
            "_dom_classes": [],
            "description": "",
            "_model_name": "FloatProgressModel",
            "bar_style": "success",
            "max": 1,
            "_view_module": "@jupyter-widgets/controls",
            "_model_module_version": "1.5.0",
            "value": 1,
            "_view_count": null,
            "_view_module_version": "1.5.0",
            "orientation": "horizontal",
            "min": 0,
            "description_tooltip": null,
            "_model_module": "@jupyter-widgets/controls",
            "layout": "IPY_MODEL_59dca1a7c4224e8cbfdc49a843e27205"
          }
        },
        "760e8502714349aa95be11c7b70570a6": {
          "model_module": "@jupyter-widgets/controls",
          "model_name": "HTMLModel",
          "state": {
            "_view_name": "HTMLView",
            "style": "IPY_MODEL_7a571e7e49034e3683b96fab4b21c4b6",
            "_dom_classes": [],
            "description": "",
            "_model_name": "HTMLModel",
            "placeholder": "​",
            "_view_module": "@jupyter-widgets/controls",
            "_model_module_version": "1.5.0",
            "value": " 8192/? [00:04&lt;00:00, 2000.09it/s]",
            "_view_count": null,
            "_view_module_version": "1.5.0",
            "description_tooltip": null,
            "_model_module": "@jupyter-widgets/controls",
            "layout": "IPY_MODEL_288f4c622c30424b9db78ee52a09aadf"
          }
        },
        "562247094a474cf283c2ce4444c194de": {
          "model_module": "@jupyter-widgets/controls",
          "model_name": "ProgressStyleModel",
          "state": {
            "_view_name": "StyleView",
            "_model_name": "ProgressStyleModel",
            "description_width": "initial",
            "_view_module": "@jupyter-widgets/base",
            "_model_module_version": "1.5.0",
            "_view_count": null,
            "_view_module_version": "1.2.0",
            "bar_color": null,
            "_model_module": "@jupyter-widgets/controls"
          }
        },
        "59dca1a7c4224e8cbfdc49a843e27205": {
          "model_module": "@jupyter-widgets/base",
          "model_name": "LayoutModel",
          "state": {
            "_view_name": "LayoutView",
            "grid_template_rows": null,
            "right": null,
            "justify_content": null,
            "_view_module": "@jupyter-widgets/base",
            "overflow": null,
            "_model_module_version": "1.2.0",
            "_view_count": null,
            "flex_flow": null,
            "width": null,
            "min_width": null,
            "border": null,
            "align_items": null,
            "bottom": null,
            "_model_module": "@jupyter-widgets/base",
            "top": null,
            "grid_column": null,
            "overflow_y": null,
            "overflow_x": null,
            "grid_auto_flow": null,
            "grid_area": null,
            "grid_template_columns": null,
            "flex": null,
            "_model_name": "LayoutModel",
            "justify_items": null,
            "grid_row": null,
            "max_height": null,
            "align_content": null,
            "visibility": null,
            "align_self": null,
            "height": null,
            "min_height": null,
            "padding": null,
            "grid_auto_rows": null,
            "grid_gap": null,
            "max_width": null,
            "order": null,
            "_view_module_version": "1.2.0",
            "grid_template_areas": null,
            "object_position": null,
            "object_fit": null,
            "grid_auto_columns": null,
            "margin": null,
            "display": null,
            "left": null
          }
        },
        "7a571e7e49034e3683b96fab4b21c4b6": {
          "model_module": "@jupyter-widgets/controls",
          "model_name": "DescriptionStyleModel",
          "state": {
            "_view_name": "StyleView",
            "_model_name": "DescriptionStyleModel",
            "description_width": "",
            "_view_module": "@jupyter-widgets/base",
            "_model_module_version": "1.5.0",
            "_view_count": null,
            "_view_module_version": "1.2.0",
            "_model_module": "@jupyter-widgets/controls"
          }
        },
        "288f4c622c30424b9db78ee52a09aadf": {
          "model_module": "@jupyter-widgets/base",
          "model_name": "LayoutModel",
          "state": {
            "_view_name": "LayoutView",
            "grid_template_rows": null,
            "right": null,
            "justify_content": null,
            "_view_module": "@jupyter-widgets/base",
            "overflow": null,
            "_model_module_version": "1.2.0",
            "_view_count": null,
            "flex_flow": null,
            "width": null,
            "min_width": null,
            "border": null,
            "align_items": null,
            "bottom": null,
            "_model_module": "@jupyter-widgets/base",
            "top": null,
            "grid_column": null,
            "overflow_y": null,
            "overflow_x": null,
            "grid_auto_flow": null,
            "grid_area": null,
            "grid_template_columns": null,
            "flex": null,
            "_model_name": "LayoutModel",
            "justify_items": null,
            "grid_row": null,
            "max_height": null,
            "align_content": null,
            "visibility": null,
            "align_self": null,
            "height": null,
            "min_height": null,
            "padding": null,
            "grid_auto_rows": null,
            "grid_gap": null,
            "max_width": null,
            "order": null,
            "_view_module_version": "1.2.0",
            "grid_template_areas": null,
            "object_position": null,
            "object_fit": null,
            "grid_auto_columns": null,
            "margin": null,
            "display": null,
            "left": null
          }
        }
      }
    }
  },
  "cells": [
    {
      "cell_type": "markdown",
      "metadata": {
        "id": "view-in-github",
        "colab_type": "text"
      },
      "source": [
        "<a href=\"https://colab.research.google.com/github/PPatrickGU/ROB313/blob/main/ROB313_DeepLearning_Exercice1_Zheyi_Dajing.ipynb\" target=\"_parent\"><img src=\"https://colab.research.google.com/assets/colab-badge.svg\" alt=\"Open In Colab\"/></a>"
      ]
    },
    {
      "cell_type": "markdown",
      "metadata": {
        "id": "X2ypK81PiItD"
      },
      "source": [
        "# **ROB313 - TP2 : Deep Learning** \r\n",
        "\r\n",
        "## **Exercise 1 : Mnist classification with Pytorch**\r\n",
        "\r\n",
        "*Author: Zheyi SHEN & Dajing GU*\r\n"
      ]
    },
    {
      "cell_type": "code",
      "metadata": {
        "id": "3ki3FrK_FkNt"
      },
      "source": [
        "import torch\n",
        "import torchvision\n",
        "import torch.nn as nn\n",
        "import torch.nn.functional as F\n",
        "from torchvision import datasets, transforms\n",
        "from torch.utils.tensorboard import SummaryWriter\n",
        "from torch import optim\n",
        "import numpy as np\n",
        "import os\n",
        "import torchvision\n",
        "import matplotlib.pyplot as plt\n",
        "from torchvision.models.resnet import resnet18\n",
        "from torchsummary import summary"
      ],
      "execution_count": null,
      "outputs": []
    },
    {
      "cell_type": "markdown",
      "metadata": {
        "id": "0sll_71QiVL3"
      },
      "source": [
        "### **Q1 Analysis of the script given by the prof**"
      ]
    },
    {
      "cell_type": "code",
      "metadata": {
        "colab": {
          "base_uri": "https://localhost:8080/"
        },
        "id": "sK2u1n-9fIoR",
        "outputId": "6f9aa553-ff99-410c-cada-da2c7862dee1"
      },
      "source": [
        "dtype = torch.float\n",
        "DEVICE = torch.device(\"cpu\")\n",
        "# device = torch.device(\"cuda:0\") # Uncomment this to run on GPU\n",
        "\n",
        "# N is batch size; D_in is input dimension;\n",
        "# H is hidden dimension; D_out is output dimension.\n",
        "N, D_in, H, D_out = 64, 1000, 100, 10\n",
        "\n",
        "# Create random input and output data\n",
        "x = torch.randn(N, D_in, device=DEVICE, dtype=dtype)\n",
        "y = torch.randn(N, D_out, device=DEVICE, dtype=dtype)\n",
        "\n",
        "# Randomly initialize weights\n",
        "w1 = torch.randn(D_in, H, device=DEVICE, dtype=dtype)\n",
        "w2 = torch.randn(H, D_out, device=DEVICE, dtype=dtype)\n",
        "\n",
        "learning_rate = 1e-6\n",
        "for t in range(500):\n",
        "    # Forward pass: compute predicted y\n",
        "    h = x.mm(w1)\n",
        "    h_relu = h.clamp(min=0)\n",
        "    y_pred = h_relu.mm(w2)\n",
        "\n",
        "    # Compute and print loss\n",
        "    loss = (y_pred - y).pow(2).sum().item()\n",
        "    if t % 100 == 99:\n",
        "        print(t, loss)\n",
        "\n",
        "    # Backprop to compute gradients of w1 and w2 with respect to loss\n",
        "    grad_y_pred = 2.0 * (y_pred - y)\n",
        "    grad_w2 = h_relu.t().mm(grad_y_pred)\n",
        "    grad_h_relu = grad_y_pred.mm(w2.t())\n",
        "    grad_h = grad_h_relu.clone()\n",
        "    grad_h[h < 0] = 0\n",
        "    grad_w1 = x.t().mm(grad_h)\n",
        "\n",
        "    # Update weights using gradient descent\n",
        "    w1 -= learning_rate * grad_w1\n",
        "    w2 -= learning_rate * grad_w2\n"
      ],
      "execution_count": null,
      "outputs": [
        {
          "output_type": "stream",
          "text": [
            "99 266.09149169921875\n",
            "199 0.5805001258850098\n",
            "299 0.0019844688940793276\n",
            "399 7.475964957848191e-05\n",
            "499 1.9705050362972543e-05\n"
          ],
          "name": "stdout"
        }
      ]
    },
    {
      "cell_type": "markdown",
      "metadata": {
        "id": "RMyilTbXieuR"
      },
      "source": [
        "### **Q2 Implementaion of a simple neural net architecture for the Minst hand-writing dataset**"
      ]
    },
    {
      "cell_type": "code",
      "metadata": {
        "id": "bAS5bwPLI7A1"
      },
      "source": [
        "class Net(nn.Module):\n",
        "  def __init__(self):\n",
        "    super(Net, self).__init__()\n",
        "    self.FC1 = nn.Linear(784, 128)\n",
        "    self.FC2 = nn.Linear(128, 10)\n",
        "  def forward(self, x):\n",
        "    x = torch.sigmoid(self.FC1(x.view(-1,784)))\n",
        "    x = self.FC2(x.view(-1,128))\n",
        "    # print(x)\n",
        "    return x"
      ],
      "execution_count": null,
      "outputs": []
    },
    {
      "cell_type": "code",
      "metadata": {
        "colab": {
          "base_uri": "https://localhost:8080/"
        },
        "id": "7wk2Jv_KEhG_",
        "outputId": "67eb94c7-337a-419a-cb31-e0f11118f023"
      },
      "source": [
        "n = Net()\r\n",
        "print(n)"
      ],
      "execution_count": null,
      "outputs": [
        {
          "output_type": "stream",
          "text": [
            "Net(\n",
            "  (FC1): Linear(in_features=784, out_features=128, bias=True)\n",
            "  (FC2): Linear(in_features=128, out_features=10, bias=True)\n",
            ")\n"
          ],
          "name": "stdout"
        }
      ]
    },
    {
      "cell_type": "markdown",
      "metadata": {
        "id": "Zhjf81LpCdzj"
      },
      "source": [
        "**Import MINIST handwriting Dataset**"
      ]
    },
    {
      "cell_type": "code",
      "metadata": {
        "id": "JpsduQ3hS7_w"
      },
      "source": [
        "BATCH_SIZE = 512\r\n",
        "EPOCHS = 2\r\n",
        "DEVICE = torch.device(\"cuda\" if torch.cuda.is_available() else \"cpu\") "
      ],
      "execution_count": null,
      "outputs": []
    },
    {
      "cell_type": "code",
      "metadata": {
        "id": "PQpDoDbrBoms",
        "colab": {
          "base_uri": "https://localhost:8080/",
          "height": 399,
          "referenced_widgets": [
            "1856ea21d0034e5783b89f0a2e13ccf5",
            "c670293271e348638fc2fa5243a06ff3",
            "99c693a642244ec48a43f4aa9c2958af",
            "23bb94534c3d4f7ea1132269aa2d3360",
            "1457d7e4eea14af6a808236b515ab581",
            "94d0f29274354841971664826b45ee13",
            "50c478b4d8b64c058ffe534707aa4732",
            "67307c5de0644441a39c9414ca345c01",
            "4e0b5fb1eea3403ba43e3a613ce41c80",
            "e794c63e94de4d198c1457324c7e10a9",
            "a721d86b9d88434986c7897882858003",
            "3e00e0138c914911b17c73b2b998e3c7",
            "2eac1b87117947818d25065606a2850e",
            "bc36795e686b4c869572f3432dd5f8d7",
            "fed2a1ba1ab24422925e3e8bd00cd288",
            "4c8037353a5d47ec8ba5bf9b112fa395",
            "57e5d6fbb9c949dd943e236db227cf96",
            "7f593097fda6473dacad0249bc2cae9b",
            "bca1e84c391b494fa9d41861aff65a47",
            "66ec943fe5c54c2a9e342a652915fae3",
            "51f2f9d3259442289d58e13ba5023266",
            "5a5f5a54fbe94579a6ad5df90dabb67d",
            "a1c6fe443ee5432998b64bf690e2011f",
            "b26f5a252f2f4c58a30aa71ca1a606e7",
            "03c7d84a5f594443af2dd5462bd30ffc",
            "062a5050c24e41b0a9ec51e6cfc06c50",
            "cc0fc3e51248465fad03b35efac9ea76",
            "760e8502714349aa95be11c7b70570a6",
            "562247094a474cf283c2ce4444c194de",
            "59dca1a7c4224e8cbfdc49a843e27205",
            "7a571e7e49034e3683b96fab4b21c4b6",
            "288f4c622c30424b9db78ee52a09aadf"
          ]
        },
        "outputId": "e8a89b4e-db80-4c19-b1bd-276be861a351"
      },
      "source": [
        "transform = transforms.Compose([transforms.ToTensor(),\r\n",
        "                 transforms.Normalize(mean=(0.5), std=(0.5))])\r\n",
        "train_set = datasets.MNIST(root = \"./data/\", transform = transform, train = True, download = True)\r\n",
        "test_set = datasets.MNIST(root = \"./data/\", transform = transform, train = False)\r\n",
        "\r\n",
        "train_loader = torch.utils.data.DataLoader(dataset=train_set, batch_size = BATCH_SIZE, shuffle = True, num_workers = 4)\r\n",
        "test_loader = torch.utils.data.DataLoader(dataset=test_set, batch_size = BATCH_SIZE, shuffle = True, num_workers = 4)"
      ],
      "execution_count": null,
      "outputs": [
        {
          "output_type": "stream",
          "text": [
            "Downloading http://yann.lecun.com/exdb/mnist/train-images-idx3-ubyte.gz to ./data/MNIST/raw/train-images-idx3-ubyte.gz\n"
          ],
          "name": "stdout"
        },
        {
          "output_type": "display_data",
          "data": {
            "application/vnd.jupyter.widget-view+json": {
              "model_id": "1856ea21d0034e5783b89f0a2e13ccf5",
              "version_minor": 0,
              "version_major": 2
            },
            "text/plain": [
              "HBox(children=(FloatProgress(value=1.0, bar_style='info', max=1.0), HTML(value='')))"
            ]
          },
          "metadata": {
            "tags": []
          }
        },
        {
          "output_type": "stream",
          "text": [
            "Extracting ./data/MNIST/raw/train-images-idx3-ubyte.gz to ./data/MNIST/raw\n",
            "Downloading http://yann.lecun.com/exdb/mnist/train-labels-idx1-ubyte.gz to ./data/MNIST/raw/train-labels-idx1-ubyte.gz\n"
          ],
          "name": "stdout"
        },
        {
          "output_type": "display_data",
          "data": {
            "application/vnd.jupyter.widget-view+json": {
              "model_id": "4e0b5fb1eea3403ba43e3a613ce41c80",
              "version_minor": 0,
              "version_major": 2
            },
            "text/plain": [
              "HBox(children=(FloatProgress(value=1.0, bar_style='info', max=1.0), HTML(value='')))"
            ]
          },
          "metadata": {
            "tags": []
          }
        },
        {
          "output_type": "stream",
          "text": [
            "Extracting ./data/MNIST/raw/train-labels-idx1-ubyte.gz to ./data/MNIST/raw\n",
            "Downloading http://yann.lecun.com/exdb/mnist/t10k-images-idx3-ubyte.gz to ./data/MNIST/raw/t10k-images-idx3-ubyte.gz\n",
            "\n"
          ],
          "name": "stdout"
        },
        {
          "output_type": "display_data",
          "data": {
            "application/vnd.jupyter.widget-view+json": {
              "model_id": "57e5d6fbb9c949dd943e236db227cf96",
              "version_minor": 0,
              "version_major": 2
            },
            "text/plain": [
              "HBox(children=(FloatProgress(value=1.0, bar_style='info', max=1.0), HTML(value='')))"
            ]
          },
          "metadata": {
            "tags": []
          }
        },
        {
          "output_type": "stream",
          "text": [
            "Extracting ./data/MNIST/raw/t10k-images-idx3-ubyte.gz to ./data/MNIST/raw\n",
            "Downloading http://yann.lecun.com/exdb/mnist/t10k-labels-idx1-ubyte.gz to ./data/MNIST/raw/t10k-labels-idx1-ubyte.gz\n"
          ],
          "name": "stdout"
        },
        {
          "output_type": "display_data",
          "data": {
            "application/vnd.jupyter.widget-view+json": {
              "model_id": "03c7d84a5f594443af2dd5462bd30ffc",
              "version_minor": 0,
              "version_major": 2
            },
            "text/plain": [
              "HBox(children=(FloatProgress(value=1.0, bar_style='info', max=1.0), HTML(value='')))"
            ]
          },
          "metadata": {
            "tags": []
          }
        },
        {
          "output_type": "stream",
          "text": [
            "Extracting ./data/MNIST/raw/t10k-labels-idx1-ubyte.gz to ./data/MNIST/raw\n",
            "Processing...\n",
            "Done!\n"
          ],
          "name": "stdout"
        },
        {
          "output_type": "stream",
          "text": [
            "/usr/local/lib/python3.6/dist-packages/torchvision/datasets/mnist.py:480: UserWarning: The given NumPy array is not writeable, and PyTorch does not support non-writeable tensors. This means you can write to the underlying (supposedly non-writeable) NumPy array using the tensor. You may want to copy the array to protect its data or make it writeable before converting it to a tensor. This type of warning will be suppressed for the rest of this program. (Triggered internally at  /pytorch/torch/csrc/utils/tensor_numpy.cpp:141.)\n",
            "  return torch.from_numpy(parsed.astype(m[2], copy=False)).view(*s)\n"
          ],
          "name": "stderr"
        }
      ]
    },
    {
      "cell_type": "code",
      "metadata": {
        "colab": {
          "base_uri": "https://localhost:8080/",
          "height": 503
        },
        "id": "jua4vfgrCMWs",
        "outputId": "e569b95b-db57-4633-ddfc-642f6274884a"
      },
      "source": [
        "images, labels = iter(train_loader).next()\r\n",
        "img = torchvision.utils.make_grid(images)\r\n",
        "img = img.numpy().transpose(1,2,0)\r\n",
        "std = [0.5]\r\n",
        "mean = [0.5]\r\n",
        "img = img*std+mean\r\n",
        "for i in range(64//8):\r\n",
        "  print([labels[8*i+j].tolist() for j in range(8)])\r\n",
        "plt.imshow(img[:28*8])"
      ],
      "execution_count": null,
      "outputs": [
        {
          "output_type": "stream",
          "text": [
            "\n",
            "\n",
            "\n",
            "[3, 1, 3, 8, 8, 4, 8, 8]\n",
            "[3, 5, 0, 0, 4, 2, 0, 9]\n",
            "[3, 6, 3, 1, 5, 0, 0, 1]\n",
            "[5, 9, 8, 0, 5, 5, 8, 3]\n",
            "[9, 6, 4, 0, 7, 9, 8, 6]\n",
            "[6, 1, 7, 9, 7, 3, 4, 2]\n",
            "[4, 9, 3, 5, 3, 2, 8, 8]\n",
            "[4, 7, 0, 5, 4, 0, 8, 8]\n"
          ],
          "name": "stdout"
        },
        {
          "output_type": "execute_result",
          "data": {
            "text/plain": [
              "<matplotlib.image.AxesImage at 0x7f29e1075a20>"
            ]
          },
          "metadata": {
            "tags": []
          },
          "execution_count": 8
        },
        {
          "output_type": "stream",
          "text": [
            "\n",
            "\n"
          ],
          "name": "stdout"
        },
        {
          "output_type": "display_data",
          "data": {
            "image/png": "[encoded data removed]",
            "text/plain": [
              "<Figure size 432x288 with 1 Axes>"
            ]
          },
          "metadata": {
            "tags": [],
            "needs_background": "light"
          }
        }
      ]
    },
    {
      "cell_type": "code",
      "metadata": {
        "id": "flAqYYayA1Tj"
      },
      "source": [
        "def train(model, device, train_loader, optimizer, epoch):\r\n",
        "    model.train()\r\n",
        "    for batch_idx, (data, target) in enumerate(train_loader):\r\n",
        "        data, target = data.to(device), target.to(device)\r\n",
        "        # zeroes the gradient buffers of all parameters\r\n",
        "        optimizer.zero_grad()\r\n",
        "        output = model(data)\r\n",
        "        # loss = criterion(output, target)\r\n",
        "        loss = criterion(output, target)\r\n",
        "        \r\n",
        "        loss.backward()\r\n",
        "        # Perform the training parameters update\r\n",
        "        optimizer.step()\r\n",
        "\r\n",
        "        if (batch_idx + 1) % 30 == 0:\r\n",
        "            print('Train Epoch: {} [{}/{} ({:.0f}%)]\\tLoss: {:.6f}'.format(\r\n",
        "                epoch, batch_idx , len(train_loader),\r\n",
        "                100. * batch_idx / len(train_loader), loss.item()))"
      ],
      "execution_count": null,
      "outputs": []
    },
    {
      "cell_type": "code",
      "metadata": {
        "id": "39x53h-nAwEn"
      },
      "source": [
        "def test(model, device, test_loader):\r\n",
        "    model.eval()\r\n",
        "    test_loss =0\r\n",
        "    correct = 0\r\n",
        "    with torch.no_grad():\r\n",
        "        for data, target in test_loader:\r\n",
        "            data, target = data.to(device), target.to(device)\r\n",
        "            output = model(data)\r\n",
        "            test_loss += criterion(output, target).item() \r\n",
        "            pred = output.max(1, keepdim = True)[1] # get the index whose value is the biggest\r\n",
        "            correct += pred.eq(target.view_as(pred)).sum().item()\r\n",
        "\r\n",
        "    \r\n",
        "    test_loss /= len(test_loader.dataset)\r\n",
        "    print(\"\\nTest set: Average loss: {:.4f}, Accuracy: {}/{} ({:.0f}%) \\n\".format(\r\n",
        "        test_loss, correct, len(test_loader.dataset),\r\n",
        "        100.* correct / len(test_loader.dataset)\r\n",
        "            ))"
      ],
      "execution_count": null,
      "outputs": []
    },
    {
      "cell_type": "code",
      "metadata": {
        "id": "CVsVf8ZZCFD9"
      },
      "source": [
        "model = Net()\r\n",
        "model= model.to(DEVICE)\r\n",
        "# criterion = nn.MSELoss()\r\n",
        "criterion = nn.CrossEntropyLoss()\r\n",
        "optimizer = optim.SGD(model.parameters(), lr=0.01, weight_decay= 1e-3, momentum = 0.9) #regularization: weight_decay"
      ],
      "execution_count": null,
      "outputs": []
    },
    {
      "cell_type": "code",
      "metadata": {
        "colab": {
          "base_uri": "https://localhost:8080/"
        },
        "id": "XcvQ1h70B8VM",
        "outputId": "52a9b51a-9b5a-4e3b-f01b-ff6dad1e5370"
      },
      "source": [
        "for epoch in range(1, EPOCHS + 1):\r\n",
        "    train(model,  DEVICE, train_loader, optimizer, epoch)\r\n",
        "    test(model, DEVICE, test_loader)"
      ],
      "execution_count": null,
      "outputs": [
        {
          "output_type": "stream",
          "text": [
            "Train Epoch: 1 [29/118 (25%)]\tLoss: 2.088209\n",
            "Train Epoch: 1 [59/118 (50%)]\tLoss: 1.754573\n",
            "Train Epoch: 1 [89/118 (75%)]\tLoss: 1.343417\n",
            "\n",
            "Test set: Average loss: 0.0021, Accuracy: 7933/10000 (79%) \n",
            "\n",
            "Train Epoch: 2 [29/118 (25%)]\tLoss: 0.981476\n",
            "Train Epoch: 2 [59/118 (50%)]\tLoss: 0.760938\n",
            "Train Epoch: 2 [89/118 (75%)]\tLoss: 0.694245\n",
            "\n",
            "Test set: Average loss: 0.0012, Accuracy: 8633/10000 (86%) \n",
            "\n"
          ],
          "name": "stdout"
        }
      ]
    },
    {
      "cell_type": "markdown",
      "metadata": {
        "id": "y90cwoIhms8_"
      },
      "source": [
        "### **Q3 Adding summaries to save the results (modification of the function train and test)**"
      ]
    },
    {
      "cell_type": "code",
      "metadata": {
        "id": "o-rCnsfHep4c"
      },
      "source": [
        "def train(model, device, train_loader, optimizer, epoch):\r\n",
        "    model.train()\r\n",
        "    for batch_idx, (data, target) in enumerate(train_loader):\r\n",
        "        data, target = data.to(device), target.to(device)\r\n",
        "        # zeroes the gradient buffers of all parameters\r\n",
        "        optimizer.zero_grad()\r\n",
        "        output = model(data)\r\n",
        "        # loss = criterion(output, target)\r\n",
        "        loss = criterion(output, target)\r\n",
        "        writer.add_scalar('Loss/train', loss, epoch)\r\n",
        "        loss.backward()\r\n",
        "        # Perform the training parameters update\r\n",
        "        optimizer.step()\r\n",
        "\r\n",
        "        if (batch_idx + 1) % 30 == 0:\r\n",
        "            print('Train Epoch: {} [{}/{} ({:.0f}%)]\\tLoss: {:.6f}'.format(\r\n",
        "                epoch, batch_idx , len(train_loader),\r\n",
        "                100. * batch_idx / len(train_loader), loss.item()))\r\n",
        "            \r\n",
        "def test(model, device, test_loader):\r\n",
        "    model.eval()\r\n",
        "    test_loss =0\r\n",
        "    correct = 0\r\n",
        "    with torch.no_grad():\r\n",
        "        for data, target in test_loader:\r\n",
        "            data, target = data.to(device), target.to(device)\r\n",
        "            output = model(data)\r\n",
        "            test_loss += criterion(output, target).item() \r\n",
        "            pred = output.max(1, keepdim = True)[1] # get the index whose value is the biggest\r\n",
        "            correct += pred.eq(target.view_as(pred)).sum().item()\r\n",
        "\r\n",
        "    writer.add_scalar('Accuracy/test', 100.*correct, epoch)\r\n",
        "    test_loss /= len(test_loader.dataset)\r\n",
        "    print(\"\\nTest set: Average loss: {:.4f}, Accuracy: {}/{} ({:.0f}%) \\n\".format(\r\n",
        "        test_loss, correct, len(test_loader.dataset),\r\n",
        "        100.* correct / len(test_loader.dataset)\r\n",
        "            ))"
      ],
      "execution_count": null,
      "outputs": []
    },
    {
      "cell_type": "code",
      "metadata": {
        "id": "JbLnos1fgAAA"
      },
      "source": [
        "model = Net()\r\n",
        "model= model.to(DEVICE)\r\n",
        "# criterion = nn.MSELoss()\r\n",
        "criterion = nn.CrossEntropyLoss()\r\n",
        "optimizer = optim.SGD(model.parameters(), lr=0.01, weight_decay= 1e-3, momentum = 0.9) #regularization: weight_decay"
      ],
      "execution_count": null,
      "outputs": []
    },
    {
      "cell_type": "code",
      "metadata": {
        "colab": {
          "base_uri": "https://localhost:8080/"
        },
        "id": "QmbIsBK6exh_",
        "outputId": "27836fac-2539-4ca1-909a-ff66f90afd55"
      },
      "source": [
        "for epoch in range(1, EPOCHS + 1):\r\n",
        "    writer = SummaryWriter('runs/MNIST_TEST')\r\n",
        "    train(model,  DEVICE, train_loader, optimizer, epoch)\r\n",
        "    test(model, DEVICE, test_loader)\r\n",
        "    writer.close()\r\n",
        "print(writer)"
      ],
      "execution_count": null,
      "outputs": [
        {
          "output_type": "stream",
          "text": [
            "Train Epoch: 1 [29/118 (25%)]\tLoss: 2.126001\n",
            "Train Epoch: 1 [59/118 (50%)]\tLoss: 1.803117\n",
            "Train Epoch: 1 [89/118 (75%)]\tLoss: 1.371762\n",
            "\n",
            "Test set: Average loss: 0.0022, Accuracy: 8002/10000 (80%) \n",
            "\n",
            "Train Epoch: 2 [29/118 (25%)]\tLoss: 0.895171\n",
            "Train Epoch: 2 [59/118 (50%)]\tLoss: 0.744648\n",
            "Train Epoch: 2 [89/118 (75%)]\tLoss: 0.652655\n",
            "\n",
            "Test set: Average loss: 0.0012, Accuracy: 8633/10000 (86%) \n",
            "\n",
            "<torch.utils.tensorboard.writer.SummaryWriter object at 0x7f29e105fdd8>\n"
          ],
          "name": "stdout"
        }
      ]
    },
    {
      "cell_type": "markdown",
      "metadata": {
        "id": "cYT57q4Uz8Qx"
      },
      "source": [
        "### **Q4 Convolutional neural network (CNN: Resnet18)**"
      ]
    },
    {
      "cell_type": "markdown",
      "metadata": {
        "id": "EXXl1k5p3RVT"
      },
      "source": [
        "**Manual Implementation de ResNet18 (change the number of channel in self.pre to cater to the datset)**"
      ]
    },
    {
      "cell_type": "code",
      "metadata": {
        "id": "1-hOnu-ssKCJ"
      },
      "source": [
        "# Definition of ResBlock\n",
        "class ResBlock(nn.Module):\n",
        "    def __init__(self, in_channel, out_channel, stride=1, shortcut=None):\n",
        "        super(ResBlock, self).__init__()\n",
        "        self.left = nn.Sequential(\n",
        "            nn.Conv2d(in_channel, out_channel, 3, stride, 1, bias=False),\n",
        "            nn.BatchNorm2d(out_channel),\n",
        "            nn.ReLU(True),\n",
        "            nn.Conv2d(out_channel, out_channel, 3, 1, 1, bias=False),\n",
        "            nn.BatchNorm2d(out_channel),\n",
        "        )\n",
        "        self.right = shortcut\n",
        "\n",
        "    def forward(self, x):\n",
        "        out = self.left(x)\n",
        "        residual = x if self.right is None else self.right(x)\n",
        "        out += residual\n",
        "        return F.relu(out)\n",
        "\n",
        "# Definition of ResNet\n",
        "class ResNet(nn.Module):\n",
        "    def __init__(self,num_classes = 10):\n",
        "        super(ResNet,self).__init__()\n",
        "        self.pre = nn.Sequential(\n",
        "            nn.Conv2d(1, 64, kernel_size = 7, stride = 2, padding = 3, bias = False),\n",
        "            nn.BatchNorm2d(64),\n",
        "            nn.ReLU(inplace = True),\n",
        "            nn.MaxPool2d(3, 2, 1)\n",
        "        )\n",
        "        self.layer1 = self._make_layer(64, 64, 2)\n",
        "        self.layer2 = self._make_layer(64, 128, 2, stride=2)\n",
        "        self.layer3 = self._make_layer(128, 256, 2, stride=2)\n",
        "        self.layer4 = self._make_layer(256, 512, 2, stride=2)\n",
        "        self.fc = nn.Linear(512, num_classes)\n",
        "        \n",
        "    def _make_layer(self, inchannel, outchannel, block_num, stride=1):\n",
        "        shortcut = nn.Sequential(\n",
        "            nn.Conv2d(inchannel,outchannel,1,stride,bias=False),\n",
        "            nn.BatchNorm2d(outchannel))\n",
        "        layers = []\n",
        "        layers.append(ResBlock(inchannel, outchannel, stride, shortcut))\n",
        "        for i in range(1, block_num):\n",
        "            layers.append(ResBlock(outchannel, outchannel))\n",
        "        return nn.Sequential(*layers)\n",
        "    \n",
        "    def forward(self,x):\n",
        "        x = self.pre(x)\n",
        "        x = self.layer1(x)\n",
        "        x = self.layer2(x)\n",
        "        x = self.layer3(x)\n",
        "        x = self.layer4(x)\n",
        "        x = F.avg_pool2d(x, 7)\n",
        "        x = x.view(x.size(0), -1)\n",
        "        out = self.fc(x)\n",
        "        return out\n"
      ],
      "execution_count": null,
      "outputs": []
    },
    {
      "cell_type": "code",
      "metadata": {
        "id": "KkJj1YQx3ZPu"
      },
      "source": [
        "model = ResNet().to(DEVICE)\n",
        "criterion = nn.CrossEntropyLoss()\n",
        "optimizer = optim.SGD(model.parameters(), lr=0.01, weight_decay= 1e-3, momentum = 0.9) #regularization: weight_decay"
      ],
      "execution_count": null,
      "outputs": []
    },
    {
      "cell_type": "markdown",
      "metadata": {
        "id": "NMzZaTGDouxM"
      },
      "source": [
        "**Import MINIST handwriting Dataset (Resize the images to shape (224,224) to cater to the need of ResNet)**"
      ]
    },
    {
      "cell_type": "code",
      "metadata": {
        "id": "4I-kYgjXVrNb"
      },
      "source": [
        "transform = transforms.Compose([transforms.Resize(224), transforms.ToTensor(),\n",
        "                 transforms.Normalize(mean=(0.5), std=(0.5))])\n",
        "train_set = datasets.MNIST(root = \"./data/\", transform = transform, train = True, download = True)\n",
        "test_set = datasets.MNIST(root = \"./data/\", transform = transform, train = False)\n",
        "\n",
        "train_loader = torch.utils.data.DataLoader(dataset=train_set, batch_size = BATCH_SIZE, shuffle = True, num_workers = 4)\n",
        "test_loader = torch.utils.data.DataLoader(dataset=test_set, batch_size = BATCH_SIZE, shuffle = True, num_workers = 4)"
      ],
      "execution_count": null,
      "outputs": []
    },
    {
      "cell_type": "code",
      "metadata": {
        "colab": {
          "base_uri": "https://localhost:8080/"
        },
        "id": "-DGI8MZHWZ6d",
        "outputId": "0eefd812-d137-4f26-e99d-2cbe29cd0a3d"
      },
      "source": [
        "for epoch in range(1, EPOCHS + 1):\n",
        "    train(model,  DEVICE, train_loader, optimizer, epoch)\n",
        "    test(model, DEVICE, test_loader)"
      ],
      "execution_count": null,
      "outputs": [
        {
          "output_type": "stream",
          "text": [
            "Train Epoch: 1 [29/118 (25%)]\tLoss: 0.275616\n",
            "Train Epoch: 1 [59/118 (50%)]\tLoss: 0.135754\n",
            "Train Epoch: 1 [89/118 (75%)]\tLoss: 0.092207\n",
            "\n",
            "Test set: Average loss: 0.0002, Accuracy: 9627/10000 (96%) \n",
            "\n",
            "Train Epoch: 2 [29/118 (25%)]\tLoss: 0.037107\n",
            "Train Epoch: 2 [59/118 (50%)]\tLoss: 0.029041\n",
            "Train Epoch: 2 [89/118 (75%)]\tLoss: 0.019859\n",
            "\n",
            "Test set: Average loss: 0.0002, Accuracy: 9724/10000 (97%) \n",
            "\n"
          ],
          "name": "stdout"
        }
      ]
    },
    {
      "cell_type": "markdown",
      "metadata": {
        "id": "2DugWJ5eKjVT"
      },
      "source": [
        "\n",
        "### **Q5 Use of Optuna to find the best hyperparameters**"
      ]
    },
    {
      "cell_type": "code",
      "metadata": {
        "colab": {
          "base_uri": "https://localhost:8080/"
        },
        "id": "2Sto9eAiKBm3",
        "outputId": "beeaaa8c-9f42-46c9-8799-b8fe70f1a480"
      },
      "source": [
        "!pip install optuna\n",
        "import optuna"
      ],
      "execution_count": null,
      "outputs": [
        {
          "output_type": "stream",
          "text": [
            "Collecting optuna\n",
            "\u001b[?25l  Downloading https://files.pythonhosted.org/packages/87/10/06b58f4120f26b603d905a594650440ea1fd74476b8b360dbf01e111469b/optuna-2.3.0.tar.gz (258kB)\n",
            "\r\u001b[K     |█▎                              | 10kB 23.7MB/s eta 0:00:01\r\u001b[K     |██▌                             | 20kB 15.1MB/s eta 0:00:01\r\u001b[K     |███▉                            | 30kB 14.3MB/s eta 0:00:01\r\u001b[K     |█████                           | 40kB 14.0MB/s eta 0:00:01\r\u001b[K     |██████▍                         | 51kB 11.9MB/s eta 0:00:01\r\u001b[K     |███████▋                        | 61kB 12.0MB/s eta 0:00:01\r\u001b[K     |████████▉                       | 71kB 13.4MB/s eta 0:00:01\r\u001b[K     |██████████▏                     | 81kB 13.0MB/s eta 0:00:01\r\u001b[K     |███████████▍                    | 92kB 13.6MB/s eta 0:00:01\r\u001b[K     |████████████▊                   | 102kB 13.2MB/s eta 0:00:01\r\u001b[K     |██████████████                  | 112kB 13.2MB/s eta 0:00:01\r\u001b[K     |███████████████▏                | 122kB 13.2MB/s eta 0:00:01\r\u001b[K     |████████████████▌               | 133kB 13.2MB/s eta 0:00:01\r\u001b[K     |█████████████████▊              | 143kB 13.2MB/s eta 0:00:01\r\u001b[K     |███████████████████             | 153kB 13.2MB/s eta 0:00:01\r\u001b[K     |████████████████████▎           | 163kB 13.2MB/s eta 0:00:01\r\u001b[K     |█████████████████████▌          | 174kB 13.2MB/s eta 0:00:01\r\u001b[K     |██████████████████████▉         | 184kB 13.2MB/s eta 0:00:01\r\u001b[K     |████████████████████████        | 194kB 13.2MB/s eta 0:00:01\r\u001b[K     |█████████████████████████▍      | 204kB 13.2MB/s eta 0:00:01\r\u001b[K     |██████████████████████████▋     | 215kB 13.2MB/s eta 0:00:01\r\u001b[K     |███████████████████████████▉    | 225kB 13.2MB/s eta 0:00:01\r\u001b[K     |█████████████████████████████▏  | 235kB 13.2MB/s eta 0:00:01\r\u001b[K     |██████████████████████████████▍ | 245kB 13.2MB/s eta 0:00:01\r\u001b[K     |███████████████████████████████▊| 256kB 13.2MB/s eta 0:00:01\r\u001b[K     |████████████████████████████████| 266kB 13.2MB/s \n",
            "\u001b[?25h  Installing build dependencies ... \u001b[?25l\u001b[?25hdone\n",
            "  Getting requirements to build wheel ... \u001b[?25l\u001b[?25hdone\n",
            "    Preparing wheel metadata ... \u001b[?25l\u001b[?25hdone\n",
            "Collecting alembic\n",
            "\u001b[?25l  Downloading https://files.pythonhosted.org/packages/12/aa/c261dfd7f4ba6ce4701846a2689a46e2a172e012171de4378fc2926e3bf0/alembic-1.4.3-py2.py3-none-any.whl (159kB)\n",
            "\u001b[K     |████████████████████████████████| 163kB 48.0MB/s \n",
            "\u001b[?25hRequirement already satisfied: tqdm in /usr/local/lib/python3.6/dist-packages (from optuna) (4.41.1)\n",
            "Collecting colorlog\n",
            "  Downloading https://files.pythonhosted.org/packages/4e/c8/c16d30bbed11a1722060014c246d124582d1f781b26f5859d8dacc3e08e1/colorlog-4.6.2-py2.py3-none-any.whl\n",
            "Collecting cliff\n",
            "\u001b[?25l  Downloading https://files.pythonhosted.org/packages/8a/61/5b64d73b01c1218f55c894b5ec0fb89b32c6960b7f7b3ad9f5ac0c373b9d/cliff-3.5.0-py3-none-any.whl (81kB)\n",
            "\u001b[K     |████████████████████████████████| 81kB 11.6MB/s \n",
            "\u001b[?25hRequirement already satisfied: numpy in /usr/local/lib/python3.6/dist-packages (from optuna) (1.19.4)\n",
            "Requirement already satisfied: joblib in /usr/local/lib/python3.6/dist-packages (from optuna) (1.0.0)\n",
            "Requirement already satisfied: packaging>=20.0 in /usr/local/lib/python3.6/dist-packages (from optuna) (20.8)\n",
            "Requirement already satisfied: scipy!=1.4.0 in /usr/local/lib/python3.6/dist-packages (from optuna) (1.4.1)\n",
            "Collecting cmaes>=0.6.0\n",
            "  Downloading https://files.pythonhosted.org/packages/8d/3c/06c76ec8b54b9b1fad7f35e903fd25010fe3e0d41bd94cea5e6f12e0d651/cmaes-0.7.0-py3-none-any.whl\n",
            "Requirement already satisfied: sqlalchemy>=1.1.0 in /usr/local/lib/python3.6/dist-packages (from optuna) (1.3.20)\n",
            "Requirement already satisfied: python-dateutil in /usr/local/lib/python3.6/dist-packages (from alembic->optuna) (2.8.1)\n",
            "Collecting python-editor>=0.3\n",
            "  Downloading https://files.pythonhosted.org/packages/c6/d3/201fc3abe391bbae6606e6f1d598c15d367033332bd54352b12f35513717/python_editor-1.0.4-py3-none-any.whl\n",
            "Collecting Mako\n",
            "\u001b[?25l  Downloading https://files.pythonhosted.org/packages/a6/37/0e706200d22172eb8fa17d68a7ae22dec7631a0a92266634fb518a88a5b2/Mako-1.1.3-py2.py3-none-any.whl (75kB)\n",
            "\u001b[K     |████████████████████████████████| 81kB 12.5MB/s \n",
            "\u001b[?25hCollecting pbr!=2.1.0,>=2.0.0\n",
            "\u001b[?25l  Downloading https://files.pythonhosted.org/packages/fb/48/69046506f6ac61c1eaa9a0d42d22d54673b69e176d30ca98e3f61513e980/pbr-5.5.1-py2.py3-none-any.whl (106kB)\n",
            "\u001b[K     |████████████████████████████████| 112kB 54.6MB/s \n",
            "\u001b[?25hCollecting stevedore>=2.0.1\n",
            "\u001b[?25l  Downloading https://files.pythonhosted.org/packages/d4/49/b602307aeac3df3384ff1fcd05da9c0376c622a6c48bb5325f28ab165b57/stevedore-3.3.0-py3-none-any.whl (49kB)\n",
            "\u001b[K     |████████████████████████████████| 51kB 8.6MB/s \n",
            "\u001b[?25hCollecting PrettyTable<0.8,>=0.7.2\n",
            "  Downloading https://files.pythonhosted.org/packages/ef/30/4b0746848746ed5941f052479e7c23d2b56d174b82f4fd34a25e389831f5/prettytable-0.7.2.tar.bz2\n",
            "Requirement already satisfied: pyparsing>=2.1.0 in /usr/local/lib/python3.6/dist-packages (from cliff->optuna) (2.4.7)\n",
            "Collecting cmd2!=0.8.3,>=0.8.0\n",
            "\u001b[?25l  Downloading https://files.pythonhosted.org/packages/27/54/af6e2703f064485d717cb311d3f9440cd302a823ba6d80a020b59eae166d/cmd2-1.4.0-py3-none-any.whl (133kB)\n",
            "\u001b[K     |████████████████████████████████| 133kB 48.5MB/s \n",
            "\u001b[?25hRequirement already satisfied: six>=1.10.0 in /usr/local/lib/python3.6/dist-packages (from cliff->optuna) (1.15.0)\n",
            "Requirement already satisfied: PyYAML>=3.12 in /usr/local/lib/python3.6/dist-packages (from cliff->optuna) (3.13)\n",
            "Requirement already satisfied: MarkupSafe>=0.9.2 in /usr/local/lib/python3.6/dist-packages (from Mako->alembic->optuna) (1.1.1)\n",
            "Requirement already satisfied: importlib-metadata>=1.7.0; python_version < \"3.8\" in /usr/local/lib/python3.6/dist-packages (from stevedore>=2.0.1->cliff->optuna) (3.3.0)\n",
            "Requirement already satisfied: wcwidth>=0.1.7 in /usr/local/lib/python3.6/dist-packages (from cmd2!=0.8.3,>=0.8.0->cliff->optuna) (0.2.5)\n",
            "Collecting pyperclip>=1.6\n",
            "  Downloading https://files.pythonhosted.org/packages/6f/4c/0b1d507ad7e8bc31d690d04b4f475e74c2002d060f7994ce8c09612df707/pyperclip-1.8.1.tar.gz\n",
            "Collecting colorama>=0.3.7\n",
            "  Downloading https://files.pythonhosted.org/packages/44/98/5b86278fbbf250d239ae0ecb724f8572af1c91f4a11edf4d36a206189440/colorama-0.4.4-py2.py3-none-any.whl\n",
            "Requirement already satisfied: attrs>=16.3.0 in /usr/local/lib/python3.6/dist-packages (from cmd2!=0.8.3,>=0.8.0->cliff->optuna) (20.3.0)\n",
            "Requirement already satisfied: typing-extensions>=3.6.4; python_version < \"3.8\" in /usr/local/lib/python3.6/dist-packages (from importlib-metadata>=1.7.0; python_version < \"3.8\"->stevedore>=2.0.1->cliff->optuna) (3.7.4.3)\n",
            "Requirement already satisfied: zipp>=0.5 in /usr/local/lib/python3.6/dist-packages (from importlib-metadata>=1.7.0; python_version < \"3.8\"->stevedore>=2.0.1->cliff->optuna) (3.4.0)\n",
            "Building wheels for collected packages: optuna\n",
            "  Building wheel for optuna (PEP 517) ... \u001b[?25l\u001b[?25hdone\n",
            "  Created wheel for optuna: filename=optuna-2.3.0-cp36-none-any.whl size=359761 sha256=f1104f212e04daf01377034a216b1c54af91e72d436ca28bc7a982443814ad85\n",
            "  Stored in directory: /root/.cache/pip/wheels/fa/91/19/64b0ec6b964f89c0695a9dc6db6f851d0b54c5381a5c9cadfb\n",
            "Successfully built optuna\n",
            "Building wheels for collected packages: PrettyTable, pyperclip\n",
            "  Building wheel for PrettyTable (setup.py) ... \u001b[?25l\u001b[?25hdone\n",
            "  Created wheel for PrettyTable: filename=prettytable-0.7.2-cp36-none-any.whl size=13702 sha256=6fd6b7e64fb5d6ecafa7d56019cf25d47922416d1911a61a5f83383283f38dca\n",
            "  Stored in directory: /root/.cache/pip/wheels/80/34/1c/3967380d9676d162cb59513bd9dc862d0584e045a162095606\n",
            "  Building wheel for pyperclip (setup.py) ... \u001b[?25l\u001b[?25hdone\n",
            "  Created wheel for pyperclip: filename=pyperclip-1.8.1-cp36-none-any.whl size=11120 sha256=e2ff86917f99c29caced06a747787d6e4594f12ed529df7c4e36d44126de58af\n",
            "  Stored in directory: /root/.cache/pip/wheels/44/10/3a/c830e9bb3db2c93274ea1f213a41fabde0d8cf3794251fad0c\n",
            "Successfully built PrettyTable pyperclip\n",
            "Installing collected packages: python-editor, Mako, alembic, colorlog, pbr, stevedore, PrettyTable, pyperclip, colorama, cmd2, cliff, cmaes, optuna\n",
            "  Found existing installation: prettytable 2.0.0\n",
            "    Uninstalling prettytable-2.0.0:\n",
            "      Successfully uninstalled prettytable-2.0.0\n",
            "Successfully installed Mako-1.1.3 PrettyTable-0.7.2 alembic-1.4.3 cliff-3.5.0 cmaes-0.7.0 cmd2-1.4.0 colorama-0.4.4 colorlog-4.6.2 optuna-2.3.0 pbr-5.5.1 pyperclip-1.8.1 python-editor-1.0.4 stevedore-3.3.0\n"
          ],
          "name": "stdout"
        }
      ]
    },
    {
      "cell_type": "code",
      "metadata": {
        "id": "r66Sn7cRKsfI"
      },
      "source": [
        "def objective(trial):\n",
        "\n",
        "    model = ResNet().to(DEVICE)\n",
        "    criterion = nn.CrossEntropyLoss()\n",
        "    lr = trial.suggest_loguniform(\"lr\", 1e-3, 10)\n",
        "    weight_decay = trial.suggest_loguniform(\"weight_decay\", 1e-3, 1)\n",
        "\n",
        "    optimizer = optim.SGD(model.parameters(), lr = lr, weight_decay = weight_decay, momentum = 0.9)\n",
        "\n",
        "    # Training of the model.\n",
        "    \n",
        "    for epoch in range(EPOCHS):\n",
        "        model.train()\n",
        "        for batch_idx, (data, target) in enumerate(train_loader):\n",
        "            # # Limiting training data for faster epochs.\n",
        "            # if batch_idx * BATCHSIZE >= N_TRAIN_EXAMPLES:\n",
        "            #     break\n",
        "            data, target = data.to(DEVICE), target.to(DEVICE)\n",
        "            optimizer.zero_grad()\n",
        "            output = model(data)\n",
        "            loss = criterion(output, target)\n",
        "            loss.backward()\n",
        "            optimizer.step()\n",
        "\n",
        "        # Validation of the model.\n",
        "        model.eval()\n",
        "        correct = 0\n",
        "        with torch.no_grad():\n",
        "            for batch_idx, (data, target) in enumerate(test_loader):\n",
        "                # Limiting validation data.\n",
        "                # if batch_idx * BATCHSIZE >= N_TEST_EXAMPLES:\n",
        "                #     break\n",
        "                data, target = data.to(DEVICE), target.to(DEVICE)\n",
        "                output = model(data)\n",
        "                # Get the index of the max log-probability.\n",
        "                pred = output.argmax(dim=1, keepdim=True)\n",
        "                correct += pred.eq(target.view_as(pred)).sum().item()\n",
        "\n",
        "        # accuracy = correct / min(len(test_loader.dataset), N_TEST_EXAMPLES)\n",
        "        accuracy = correct / len(test_loader.dataset)\n",
        "\n",
        "        trial.report(accuracy, epoch)\n",
        "\n",
        "        # Handle pruning based on the intermediate value.\n",
        "        if trial.should_prune():\n",
        "            raise optuna.exceptions.TrialPruned()\n",
        "\n",
        "    return accuracy"
      ],
      "execution_count": null,
      "outputs": []
    },
    {
      "cell_type": "code",
      "metadata": {
        "colab": {
          "base_uri": "https://localhost:8080/"
        },
        "id": "h9esMMHOLFNv",
        "outputId": "dc2b3aa6-42c8-4873-a8fa-657dcea25388"
      },
      "source": [
        "search_space = {\"lr\": [1, 0.1, 0.01, 0.001], \"weight_decay\": [0.1, 0.01, 0.001]}\n",
        "study = optuna.create_study(sampler=optuna.samplers.GridSampler(search_space), direction=\"maximize\")\n",
        "study.optimize(objective, n_trials=12)\n"
      ],
      "execution_count": null,
      "outputs": [
        {
          "output_type": "stream",
          "text": [
            "\u001b[32m[I 2021-01-03 00:52:11,618]\u001b[0m A new study created in memory with name: no-name-956c8c46-2170-4bef-8d36-b29a8b4fd7bb\u001b[0m\n",
            "\u001b[32m[I 2021-01-03 00:58:47,354]\u001b[0m Trial 0 finished with value: 0.0982 and parameters: {'lr': 1, 'weight_decay': 0.1}. Best is trial 0 with value: 0.0982.\u001b[0m\n",
            "\u001b[32m[I 2021-01-03 01:05:24,464]\u001b[0m Trial 1 finished with value: 0.1135 and parameters: {'lr': 1, 'weight_decay': 0.01}. Best is trial 1 with value: 0.1135.\u001b[0m\n",
            "\u001b[32m[I 2021-01-03 01:12:09,961]\u001b[0m Trial 2 finished with value: 0.8992 and parameters: {'lr': 0.01, 'weight_decay': 0.01}. Best is trial 2 with value: 0.8992.\u001b[0m\n",
            "\u001b[32m[I 2021-01-03 01:18:54,090]\u001b[0m Trial 3 finished with value: 0.3943 and parameters: {'lr': 0.1, 'weight_decay': 0.01}. Best is trial 2 with value: 0.8992.\u001b[0m\n",
            "\u001b[32m[I 2021-01-03 01:25:26,179]\u001b[0m Trial 4 finished with value: 0.1135 and parameters: {'lr': 0.1, 'weight_decay': 0.1}. Best is trial 2 with value: 0.8992.\u001b[0m\n",
            "\u001b[32m[I 2021-01-03 01:32:11,549]\u001b[0m Trial 5 finished with value: 0.966 and parameters: {'lr': 0.001, 'weight_decay': 0.01}. Best is trial 5 with value: 0.966.\u001b[0m\n",
            "\u001b[32m[I 2021-01-03 01:38:57,000]\u001b[0m Trial 6 finished with value: 0.9712 and parameters: {'lr': 0.001, 'weight_decay': 0.001}. Best is trial 6 with value: 0.9712.\u001b[0m\n",
            "\u001b[32m[I 2021-01-03 01:42:19,637]\u001b[0m Trial 7 pruned. \u001b[0m\n",
            "\u001b[32m[I 2021-01-03 01:49:05,143]\u001b[0m Trial 8 finished with value: 0.9231 and parameters: {'lr': 0.001, 'weight_decay': 0.1}. Best is trial 6 with value: 0.9712.\u001b[0m\n",
            "\u001b[32m[I 2021-01-03 01:52:21,914]\u001b[0m Trial 9 pruned. \u001b[0m\n",
            "\u001b[32m[I 2021-01-03 01:59:06,973]\u001b[0m Trial 10 finished with value: 0.7899 and parameters: {'lr': 0.1, 'weight_decay': 0.001}. Best is trial 6 with value: 0.9712.\u001b[0m\n",
            "\u001b[32m[I 2021-01-03 02:05:52,081]\u001b[0m Trial 11 finished with value: 0.9819 and parameters: {'lr': 0.01, 'weight_decay': 0.001}. Best is trial 11 with value: 0.9819.\u001b[0m\n"
          ],
          "name": "stderr"
        }
      ]
    }
  ]
}